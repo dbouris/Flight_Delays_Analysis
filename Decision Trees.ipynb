{
 "cells": [
  {
   "cell_type": "markdown",
   "id": "c9782388",
   "metadata": {},
   "source": [
    "## Decision Trees for multiclassification"
   ]
  },
  {
   "cell_type": "markdown",
   "id": "64034955",
   "metadata": {},
   "source": [
    "### Import Data"
   ]
  },
  {
   "cell_type": "code",
   "execution_count": 1,
   "id": "bb01e717",
   "metadata": {},
   "outputs": [],
   "source": [
    "#! pip install xgboost\n",
    "import pandas as pd\n",
    "from sklearn.tree import DecisionTreeClassifier\n",
    "from sklearn.utils import shuffle\n",
    "from sklearn.preprocessing import LabelEncoder\n",
    "from sklearn.model_selection import train_test_split  \n",
    "from sklearn.preprocessing import StandardScaler\n",
    "from sklearn.metrics import classification_report, f1_score\n",
    "from sklearn.feature_selection import RFECV\n",
    "from sklearn.ensemble import RandomForestClassifier\n",
    "from sklearn.preprocessing import OneHotEncoder\n",
    "import seaborn as sns\n",
    "import xgboost as xgb\n",
    "from xgboost import XGBClassifier\n",
    "from sklearn.metrics import confusion_matrix\n",
    "import matplotlib.pyplot as plt\n",
    "from sklearn.preprocessing import StandardScaler\n",
    "from sklearn.neural_network import MLPClassifier"
   ]
  },
  {
   "cell_type": "markdown",
   "id": "63df378a",
   "metadata": {},
   "source": [
    "### Read all the CSV files"
   ]
  },
  {
   "cell_type": "code",
   "execution_count": 2,
   "id": "58e4337e",
   "metadata": {},
   "outputs": [
    {
     "name": "stdout",
     "output_type": "stream",
     "text": [
      "CPU times: total: 20.4 s\n",
      "Wall time: 36.8 s\n"
     ]
    }
   ],
   "source": [
    "%%time\n",
    "df= pd.read_csv('CSV/flights_fact.csv',low_memory=False)"
   ]
  },
  {
   "cell_type": "code",
   "execution_count": 3,
   "id": "e601cd37",
   "metadata": {},
   "outputs": [],
   "source": [
    "aircraft_dim= pd.read_csv('CSV/aircraft_dim.csv')\n",
    "aircraft_dim = aircraft_dim.rename(columns={'N-Number': 'TAIL_NUMBER'})"
   ]
  },
  {
   "cell_type": "code",
   "execution_count": 4,
   "id": "71535070",
   "metadata": {},
   "outputs": [],
   "source": [
    "airlines=pd.read_csv('CSV/airlines.csv')\n",
    "airlines = airlines.rename(columns={'IATA_CODE': 'AIRLINE'})"
   ]
  },
  {
   "cell_type": "code",
   "execution_count": 5,
   "id": "5922161b",
   "metadata": {},
   "outputs": [],
   "source": [
    "date_dim=pd.read_csv('CSV/date_dim.csv')"
   ]
  },
  {
   "cell_type": "code",
   "execution_count": 6,
   "id": "bfec5f45",
   "metadata": {},
   "outputs": [],
   "source": [
    "arrivalAirport_dim=pd.read_csv('CSV/arrivalAirport_dim.csv')\n",
    "arrivalAirport_dim = arrivalAirport_dim.rename(columns={'IATA_CODE': 'DESTINATION_AIRPORT'})"
   ]
  },
  {
   "cell_type": "code",
   "execution_count": 7,
   "id": "6d3e3af2",
   "metadata": {},
   "outputs": [],
   "source": [
    "departureAirport_dim=pd.read_csv('CSV/departureAirport_dim.csv')\n",
    "departureAirport_dim = departureAirport_dim.rename(columns={'IATA_CODE': 'ORIGIN_AIRPORT'})"
   ]
  },
  {
   "cell_type": "code",
   "execution_count": 8,
   "id": "b311e83c",
   "metadata": {},
   "outputs": [],
   "source": [
    "departureTime_dim=pd.read_csv('CSV/departureTime_dim.csv')"
   ]
  },
  {
   "cell_type": "code",
   "execution_count": 9,
   "id": "c5b70dce",
   "metadata": {},
   "outputs": [],
   "source": [
    "arrivalTime_dim=pd.read_csv('CSV/arrivalTime_dim.csv')"
   ]
  },
  {
   "cell_type": "markdown",
   "id": "27963578",
   "metadata": {},
   "source": [
    "* Merge the fact table with the dimension tables"
   ]
  },
  {
   "cell_type": "code",
   "execution_count": 10,
   "id": "7fee39dd",
   "metadata": {},
   "outputs": [
    {
     "name": "stdout",
     "output_type": "stream",
     "text": [
      "CPU times: total: 25.3 s\n",
      "Wall time: 32 s\n"
     ]
    }
   ],
   "source": [
    "%%time\n",
    "\n",
    "df=pd.merge(df,aircraft_dim, on='TAIL_NUMBER', how='inner')\n",
    "df=pd.merge(df,date_dim, on='dateKey', how='inner')\n",
    "df=pd.merge(df,arrivalAirport_dim, on='DESTINATION_AIRPORT', how='inner')\n",
    "df=pd.merge(df,departureAirport_dim, on='ORIGIN_AIRPORT', how='inner')\n",
    "df=pd.merge(df,departureTime_dim,on='scheduledDeparture_key',how='inner')\n",
    "df=pd.merge(df,arrivalTime_dim,on='scheduledArrival_key',how='inner')"
   ]
  },
  {
   "cell_type": "markdown",
   "id": "dd87023d",
   "metadata": {},
   "source": [
    "* Create a new method called get_value that creates a new column called 'class' and assigns the values 0,1,2 to the classes early,on_time,delayed respectively if those classes appear to be 1 in the initial dataset."
   ]
  },
  {
   "cell_type": "code",
   "execution_count": null,
   "id": "062410df",
   "metadata": {},
   "outputs": [],
   "source": [
    "%%time \n",
    "\n",
    "def get_value(df):\n",
    "    if df['early'] == 1:\n",
    "        return 0\n",
    "    elif df['on_time'] == 1:\n",
    "        return 1\n",
    "    elif df['delayed'] == 1:\n",
    "        return 2\n",
    "\n",
    "df['class'] = df.apply(lambda df: get_value(df), axis=1)\n"
   ]
  },
  {
   "cell_type": "markdown",
   "id": "28e9b35c",
   "metadata": {},
   "source": [
    "### Print merged Dataframe "
   ]
  },
  {
   "cell_type": "code",
   "execution_count": null,
   "id": "e90bc41b",
   "metadata": {},
   "outputs": [],
   "source": [
    "df"
   ]
  },
  {
   "cell_type": "markdown",
   "id": "5c2c7a7a",
   "metadata": {},
   "source": [
    "### Remove unwanted columns"
   ]
  },
  {
   "cell_type": "code",
   "execution_count": 12,
   "id": "f1a61889",
   "metadata": {},
   "outputs": [],
   "source": [
    "df=df.drop(['YEAR','FLIGHT_NUMBER','TAIL_NUMBER','TAXI_OUT','WHEELS_OFF','ELAPSED_TIME', 'AIR_TIME','WHEELS_ON',\n",
    "            'TAXI_IN','CANCELLATION_REASON','ARRIVAL_DELAY','early','on_time','delayed',\n",
    "              'new_delay','DIVERTED','CANCELLED','AIR_SYSTEM_DELAY','SECURITY_DELAY','AIRLINE_DELAY',\n",
    "                    'WEATHER_DELAY','YEAR','LATE_AIRCRAFT_DELAY','num_engines','num_passengers','Year Mfr','TypeAcft',\n",
    "           'type','AircraftMFRModelCode','COUNTRY_x','COUNTRY_y'], axis=1)\n"
   ]
  },
  {
   "cell_type": "code",
   "execution_count": null,
   "id": "974745e6",
   "metadata": {},
   "outputs": [],
   "source": [
    "df.isna().sum()"
   ]
  },
  {
   "cell_type": "code",
   "execution_count": 13,
   "id": "025a796e",
   "metadata": {},
   "outputs": [],
   "source": [
    "df.dropna(subset=['LATITUDE_x','LATITUDE_y','LONGITUDE_x','LONGITUDE_y'], inplace=True)"
   ]
  },
  {
   "cell_type": "code",
   "execution_count": null,
   "id": "aba7b3e9",
   "metadata": {},
   "outputs": [],
   "source": [
    "df.isna().sum()"
   ]
  },
  {
   "cell_type": "code",
   "execution_count": null,
   "id": "2a1c6d44",
   "metadata": {},
   "outputs": [],
   "source": [
    "df.info()"
   ]
  },
  {
   "cell_type": "markdown",
   "id": "19e481eb",
   "metadata": {},
   "source": [
    "### Perform Correlation Statistic Test"
   ]
  },
  {
   "cell_type": "code",
   "execution_count": 14,
   "id": "648245aa",
   "metadata": {},
   "outputs": [
    {
     "data": {
      "text/plain": [
       "<AxesSubplot: >"
      ]
     },
     "execution_count": 14,
     "metadata": {},
     "output_type": "execute_result"
    },
    {
     "data": {
      "image/png": "[encoded data removed]",
      "text/plain": [
       "<Figure size 432x288 with 2 Axes>"
      ]
     },
     "metadata": {
      "needs_background": "light"
     },
     "output_type": "display_data"
    }
   ],
   "source": [
    "sns.heatmap(df.corr())"
   ]
  },
  {
   "cell_type": "code",
   "execution_count": 15,
   "id": "3e710d20",
   "metadata": {},
   "outputs": [
    {
     "data": {
      "text/plain": [
       "DEPARTURE_DELAY           0.615048\n",
       "DEPARTURE_TIME            0.133851\n",
       "scheduledDeparture_key    0.114499\n",
       "Hour_x                    0.114257\n",
       "ARRIVAL_TIME              0.097204\n",
       "Hour_y                    0.091624\n",
       "scheduledArrival_key      0.091609\n",
       "Minute_x                  0.014690\n",
       "Minute_y                 -0.000238\n",
       "DAY                      -0.005247\n",
       "DAY_OF_WEEK              -0.014753\n",
       "LATITUDE_x               -0.027424\n",
       "MONTH                    -0.034027\n",
       "dateKey                  -0.034159\n",
       "LATITUDE_y               -0.036029\n",
       "DISTANCE                 -0.053450\n",
       "LONGITUDE_x              -0.060567\n",
       "SCHEDULED_TIME           -0.078487\n",
       "LONGITUDE_y              -0.084342\n",
       "dtype: float64"
      ]
     },
     "execution_count": 15,
     "metadata": {},
     "output_type": "execute_result"
    }
   ],
   "source": [
    "#columns=['FLIGHT_NUMBER','TAIL_NUMBER','scheduledDeparture_key','DEPARTURE_DELAY','TAXI_OUT','WHEELS_OFF',\n",
    "               #'AIR_TIME','WHEELS_ON','TAXI_IN','scheduledArrival_key','ARRIVAL_DELAY','early','on_time','delayed',\n",
    "              #'new_delay','class'])\n",
    "# Select the target variable\n",
    "y = df['class']\n",
    "\n",
    "# Select the feature columns\n",
    "X = df.drop(columns=['class'])\n",
    "\n",
    "# Compute the correlation matrix\n",
    "corr = X.corrwith(y)\n",
    "\n",
    "# Sort the correlations in descending order\n",
    "corr_sorted = corr.sort_values(ascending=False)\n",
    "\n",
    "# Print the sorted correlations\n",
    "corr_sorted\n",
    "\n"
   ]
  },
  {
   "cell_type": "code",
   "execution_count": null,
   "id": "54640a50",
   "metadata": {},
   "outputs": [],
   "source": [
    "df"
   ]
  },
  {
   "cell_type": "markdown",
   "id": "85c44edb",
   "metadata": {},
   "source": [
    "* Use the OneHotEncoder class from the sklearn.preprocessing module to perform one-hot encoding on the categorical column."
   ]
  },
  {
   "cell_type": "code",
   "execution_count": null,
   "id": "48601de5",
   "metadata": {},
   "outputs": [],
   "source": [
    "airlines = df['AIRLINE'].value_counts()\n",
    "top_30or=df['ORIGIN_AIRPORT'].value_counts().head(30).index.to_list()\n",
    "top_30ar=df['DESTINATION_AIRPORT'].value_counts().head(30).index.to_list()"
   ]
  },
  {
   "cell_type": "code",
   "execution_count": null,
   "id": "0c4dc181",
   "metadata": {},
   "outputs": [],
   "source": [
    "df['mfr_name'].value_counts()"
   ]
  },
  {
   "cell_type": "code",
   "execution_count": 18,
   "id": "bf79298c",
   "metadata": {},
   "outputs": [],
   "source": [
    "#ex_df=df[df['ORIGIN_AIRPORT'].isin(top_30or) & df['DESTINATION_AIRPORT'].isin(top_30ar)]\n",
    "ex_df=df"
   ]
  },
  {
   "cell_type": "code",
   "execution_count": 19,
   "id": "b07ff453",
   "metadata": {},
   "outputs": [
    {
     "name": "stdout",
     "output_type": "stream",
     "text": [
      "CPU times: total: 578 ms\n",
      "Wall time: 633 ms\n"
     ]
    },
    {
     "data": {
      "text/html": [
       "<div>\n",
       "<style scoped>\n",
       "    .dataframe tbody tr th:only-of-type {\n",
       "        vertical-align: middle;\n",
       "    }\n",
       "\n",
       "    .dataframe tbody tr th {\n",
       "        vertical-align: top;\n",
       "    }\n",
       "\n",
       "    .dataframe thead th {\n",
       "        text-align: right;\n",
       "    }\n",
       "</style>\n",
       "<table border=\"1\" class=\"dataframe\">\n",
       "  <thead>\n",
       "    <tr style=\"text-align: right;\">\n",
       "      <th></th>\n",
       "      <th>AA</th>\n",
       "      <th>AS</th>\n",
       "      <th>B6</th>\n",
       "      <th>DL</th>\n",
       "      <th>EV</th>\n",
       "      <th>F9</th>\n",
       "      <th>HA</th>\n",
       "      <th>MQ</th>\n",
       "      <th>NK</th>\n",
       "      <th>OO</th>\n",
       "      <th>UA</th>\n",
       "      <th>US</th>\n",
       "      <th>VX</th>\n",
       "      <th>WN</th>\n",
       "    </tr>\n",
       "  </thead>\n",
       "  <tbody>\n",
       "    <tr>\n",
       "      <th>0</th>\n",
       "      <td>0</td>\n",
       "      <td>1</td>\n",
       "      <td>0</td>\n",
       "      <td>0</td>\n",
       "      <td>0</td>\n",
       "      <td>0</td>\n",
       "      <td>0</td>\n",
       "      <td>0</td>\n",
       "      <td>0</td>\n",
       "      <td>0</td>\n",
       "      <td>0</td>\n",
       "      <td>0</td>\n",
       "      <td>0</td>\n",
       "      <td>0</td>\n",
       "    </tr>\n",
       "    <tr>\n",
       "      <th>1</th>\n",
       "      <td>0</td>\n",
       "      <td>1</td>\n",
       "      <td>0</td>\n",
       "      <td>0</td>\n",
       "      <td>0</td>\n",
       "      <td>0</td>\n",
       "      <td>0</td>\n",
       "      <td>0</td>\n",
       "      <td>0</td>\n",
       "      <td>0</td>\n",
       "      <td>0</td>\n",
       "      <td>0</td>\n",
       "      <td>0</td>\n",
       "      <td>0</td>\n",
       "    </tr>\n",
       "    <tr>\n",
       "      <th>2</th>\n",
       "      <td>0</td>\n",
       "      <td>1</td>\n",
       "      <td>0</td>\n",
       "      <td>0</td>\n",
       "      <td>0</td>\n",
       "      <td>0</td>\n",
       "      <td>0</td>\n",
       "      <td>0</td>\n",
       "      <td>0</td>\n",
       "      <td>0</td>\n",
       "      <td>0</td>\n",
       "      <td>0</td>\n",
       "      <td>0</td>\n",
       "      <td>0</td>\n",
       "    </tr>\n",
       "    <tr>\n",
       "      <th>3</th>\n",
       "      <td>0</td>\n",
       "      <td>1</td>\n",
       "      <td>0</td>\n",
       "      <td>0</td>\n",
       "      <td>0</td>\n",
       "      <td>0</td>\n",
       "      <td>0</td>\n",
       "      <td>0</td>\n",
       "      <td>0</td>\n",
       "      <td>0</td>\n",
       "      <td>0</td>\n",
       "      <td>0</td>\n",
       "      <td>0</td>\n",
       "      <td>0</td>\n",
       "    </tr>\n",
       "    <tr>\n",
       "      <th>4</th>\n",
       "      <td>0</td>\n",
       "      <td>1</td>\n",
       "      <td>0</td>\n",
       "      <td>0</td>\n",
       "      <td>0</td>\n",
       "      <td>0</td>\n",
       "      <td>0</td>\n",
       "      <td>0</td>\n",
       "      <td>0</td>\n",
       "      <td>0</td>\n",
       "      <td>0</td>\n",
       "      <td>0</td>\n",
       "      <td>0</td>\n",
       "      <td>0</td>\n",
       "    </tr>\n",
       "    <tr>\n",
       "      <th>...</th>\n",
       "      <td>...</td>\n",
       "      <td>...</td>\n",
       "      <td>...</td>\n",
       "      <td>...</td>\n",
       "      <td>...</td>\n",
       "      <td>...</td>\n",
       "      <td>...</td>\n",
       "      <td>...</td>\n",
       "      <td>...</td>\n",
       "      <td>...</td>\n",
       "      <td>...</td>\n",
       "      <td>...</td>\n",
       "      <td>...</td>\n",
       "      <td>...</td>\n",
       "    </tr>\n",
       "    <tr>\n",
       "      <th>3919448</th>\n",
       "      <td>0</td>\n",
       "      <td>0</td>\n",
       "      <td>0</td>\n",
       "      <td>0</td>\n",
       "      <td>0</td>\n",
       "      <td>0</td>\n",
       "      <td>0</td>\n",
       "      <td>0</td>\n",
       "      <td>0</td>\n",
       "      <td>0</td>\n",
       "      <td>1</td>\n",
       "      <td>0</td>\n",
       "      <td>0</td>\n",
       "      <td>0</td>\n",
       "    </tr>\n",
       "    <tr>\n",
       "      <th>3919449</th>\n",
       "      <td>0</td>\n",
       "      <td>0</td>\n",
       "      <td>0</td>\n",
       "      <td>0</td>\n",
       "      <td>0</td>\n",
       "      <td>0</td>\n",
       "      <td>0</td>\n",
       "      <td>0</td>\n",
       "      <td>0</td>\n",
       "      <td>0</td>\n",
       "      <td>1</td>\n",
       "      <td>0</td>\n",
       "      <td>0</td>\n",
       "      <td>0</td>\n",
       "    </tr>\n",
       "    <tr>\n",
       "      <th>3919450</th>\n",
       "      <td>0</td>\n",
       "      <td>0</td>\n",
       "      <td>0</td>\n",
       "      <td>0</td>\n",
       "      <td>0</td>\n",
       "      <td>0</td>\n",
       "      <td>0</td>\n",
       "      <td>0</td>\n",
       "      <td>0</td>\n",
       "      <td>0</td>\n",
       "      <td>1</td>\n",
       "      <td>0</td>\n",
       "      <td>0</td>\n",
       "      <td>0</td>\n",
       "    </tr>\n",
       "    <tr>\n",
       "      <th>3919451</th>\n",
       "      <td>0</td>\n",
       "      <td>0</td>\n",
       "      <td>0</td>\n",
       "      <td>0</td>\n",
       "      <td>1</td>\n",
       "      <td>0</td>\n",
       "      <td>0</td>\n",
       "      <td>0</td>\n",
       "      <td>0</td>\n",
       "      <td>0</td>\n",
       "      <td>0</td>\n",
       "      <td>0</td>\n",
       "      <td>0</td>\n",
       "      <td>0</td>\n",
       "    </tr>\n",
       "    <tr>\n",
       "      <th>3919452</th>\n",
       "      <td>0</td>\n",
       "      <td>0</td>\n",
       "      <td>0</td>\n",
       "      <td>0</td>\n",
       "      <td>0</td>\n",
       "      <td>0</td>\n",
       "      <td>0</td>\n",
       "      <td>0</td>\n",
       "      <td>0</td>\n",
       "      <td>1</td>\n",
       "      <td>0</td>\n",
       "      <td>0</td>\n",
       "      <td>0</td>\n",
       "      <td>0</td>\n",
       "    </tr>\n",
       "  </tbody>\n",
       "</table>\n",
       "<p>3911268 rows × 14 columns</p>\n",
       "</div>"
      ],
      "text/plain": [
       "         AA  AS  B6  DL  EV  F9  HA  MQ  NK  OO  UA  US  VX  WN\n",
       "0         0   1   0   0   0   0   0   0   0   0   0   0   0   0\n",
       "1         0   1   0   0   0   0   0   0   0   0   0   0   0   0\n",
       "2         0   1   0   0   0   0   0   0   0   0   0   0   0   0\n",
       "3         0   1   0   0   0   0   0   0   0   0   0   0   0   0\n",
       "4         0   1   0   0   0   0   0   0   0   0   0   0   0   0\n",
       "...      ..  ..  ..  ..  ..  ..  ..  ..  ..  ..  ..  ..  ..  ..\n",
       "3919448   0   0   0   0   0   0   0   0   0   0   1   0   0   0\n",
       "3919449   0   0   0   0   0   0   0   0   0   0   1   0   0   0\n",
       "3919450   0   0   0   0   0   0   0   0   0   0   1   0   0   0\n",
       "3919451   0   0   0   0   1   0   0   0   0   0   0   0   0   0\n",
       "3919452   0   0   0   0   0   0   0   0   0   1   0   0   0   0\n",
       "\n",
       "[3911268 rows x 14 columns]"
      ]
     },
     "execution_count": 19,
     "metadata": {},
     "output_type": "execute_result"
    }
   ],
   "source": [
    "%%time\n",
    "# Create dummy variables for the 'AIRLINE' and 'ORIGIN_AIRPORT','DESTINATION_AIRPORT' columns\n",
    "dummies = pd.get_dummies(ex_df['AIRLINE'])\n",
    "#dummies1 = pd.get_dummies(ex_df['ORIGIN_AIRPORT'])\n",
    "#dummies2 = pd.get_dummies(ex_df['DESTINATION_AIRPORT'])\n",
    "\n",
    "\n",
    "dummies"
   ]
  },
  {
   "cell_type": "code",
   "execution_count": 20,
   "id": "042f0b9a",
   "metadata": {},
   "outputs": [],
   "source": [
    "dummies3 = pd.get_dummies(ex_df['mfr_name'])"
   ]
  },
  {
   "cell_type": "code",
   "execution_count": 21,
   "id": "cdf8a0e4",
   "metadata": {},
   "outputs": [],
   "source": [
    "# Concatenate the dummy variables to the original dataframe\n",
    "#df = pd.concat([df, dummies], axis=1)\n",
    "ex_df=pd.concat([ex_df, dummies], axis=1)\n",
    "#ex_df=pd.concat([ex_df, dummies1], axis=1)\n",
    "#ex_df=pd.concat([ex_df, dummies2], axis=1)\n",
    "ex_df\n",
    "# Drop the original 'AIRLINE' and 'ORIGIN_AIRPORT','DESTINATION_AIRPORT' columns\n",
    "ex_df = ex_df.drop(['AIRLINE', 'ORIGIN_AIRPORT','DESTINATION_AIRPORT'], axis=1)"
   ]
  },
  {
   "cell_type": "code",
   "execution_count": 22,
   "id": "5a0b6f60",
   "metadata": {},
   "outputs": [],
   "source": [
    "ex_df=pd.concat([ex_df, dummies3], axis=1)\n",
    "ex_df = ex_df.drop(['mfr_name'], axis=1)"
   ]
  },
  {
   "cell_type": "code",
   "execution_count": 23,
   "id": "8d59e59d",
   "metadata": {},
   "outputs": [
    {
     "data": {
      "text/plain": [
       "Index(['scheduledDeparture_key', 'DEPARTURE_TIME', 'DEPARTURE_DELAY',\n",
       "       'SCHEDULED_TIME', 'DISTANCE', 'scheduledArrival_key', 'ARRIVAL_TIME',\n",
       "       'dateKey', 'model_name', 'MONTH', 'DAY', 'DAY_OF_WEEK', 'fullDate',\n",
       "       'month_name', 'day_name', 'AIRPORT_x', 'CITY_x', 'STATE_x',\n",
       "       'LATITUDE_x', 'LONGITUDE_x', 'AIRPORT_y', 'CITY_y', 'STATE_y',\n",
       "       'LATITUDE_y', 'LONGITUDE_y', 'Hour_x', 'Minute_x', 'Hour_y', 'Minute_y',\n",
       "       'class', 'AA', 'AS', 'B6', 'DL', 'EV', 'F9', 'HA', 'MQ', 'NK', 'OO',\n",
       "       'UA', 'US', 'VX', 'WN', 'AIRBUS', 'AVIAT AIRCRAFT INC', 'BARKER JACK L',\n",
       "       'BEECH', 'BELL', 'BENHAM JOHN', 'BOEING', 'BOMBARDIER INC', 'CANADAIR',\n",
       "       'CESSNA', 'CIRRUS DESIGN CORP', 'DASSAULT', 'DIAMOND AIRCRAFT IND INC',\n",
       "       'DOUGLAS', 'EMBRAER', 'EMBRAER S A', 'EXTRA FLUGZEUGBAU GMBH',\n",
       "       'GROSS ROBERT', 'GULFSTREAM AEROSPACE', 'GULFSTREAM AEROSPACE CORP',\n",
       "       'KILDALL GARY', 'LAMBERT RICHARD', 'LEARJET INC', 'MARZ BARRY',\n",
       "       'MCDONNELL DOUGLAS', 'MCDONNELL DOUGLAS AIRCRAFT CO',\n",
       "       'MCDONNELL DOUGLAS CORPORATION', 'PAIR MIKE E', 'PIPER',\n",
       "       'RAYTHEON AIRCRAFT COMPANY', 'ROBINSON HELICOPTER CO', 'SIKORSKY',\n",
       "       'SOCATA'],\n",
       "      dtype='object')"
      ]
     },
     "execution_count": 23,
     "metadata": {},
     "output_type": "execute_result"
    }
   ],
   "source": [
    "ex_df.columns"
   ]
  },
  {
   "cell_type": "code",
   "execution_count": 24,
   "id": "b94f0b44",
   "metadata": {},
   "outputs": [
    {
     "data": {
      "text/plain": [
       "DEPARTURE_DELAY                  0.615048\n",
       "DEPARTURE_TIME                   0.133851\n",
       "scheduledDeparture_key           0.114499\n",
       "Hour_x                           0.114257\n",
       "ARRIVAL_TIME                     0.097204\n",
       "Hour_y                           0.091624\n",
       "scheduledArrival_key             0.091609\n",
       "LONGITUDE_y                     -0.084342\n",
       "DL                              -0.083963\n",
       "SCHEDULED_TIME                  -0.078487\n",
       "WN                               0.061951\n",
       "LONGITUDE_x                     -0.060567\n",
       "DISTANCE                        -0.053450\n",
       "HA                               0.049249\n",
       "MCDONNELL DOUGLAS AIRCRAFT CO   -0.037522\n",
       "LATITUDE_y                      -0.036029\n",
       "BOEING                           0.035072\n",
       "UA                              -0.034942\n",
       "dateKey                         -0.034159\n",
       "MONTH                           -0.034027\n",
       "dtype: float64"
      ]
     },
     "execution_count": 24,
     "metadata": {},
     "output_type": "execute_result"
    }
   ],
   "source": [
    "#columns=['FLIGHT_NUMBER','TAIL_NUMBER','scheduledDeparture_key','DEPARTURE_DELAY','TAXI_OUT','WHEELS_OFF',\n",
    "               #'AIR_TIME','WHEELS_ON','TAXI_IN','scheduledArrival_key','ARRIVAL_DELAY','early','on_time','delayed',\n",
    "              #'new_delay','class'])\n",
    "# Select the target variable\n",
    "y = ex_df['class']\n",
    "\n",
    "# Select the feature columns\n",
    "X = ex_df.drop(columns=['class'])\n",
    "\n",
    "# Compute the correlation matrix\n",
    "corr = X.corrwith(y)\n",
    "\n",
    "# Sort the correlations in descending order\n",
    "corr_sorted = corr.sort_values(ascending=False,key=abs)\n",
    "\n",
    "# Print the sorted correlations\n",
    "corr_sorted.head(20)\n"
   ]
  },
  {
   "cell_type": "markdown",
   "id": "25cf7137",
   "metadata": {},
   "source": [
    "* Info and analysis of data"
   ]
  },
  {
   "cell_type": "code",
   "execution_count": null,
   "id": "010afdc5",
   "metadata": {
    "scrolled": true
   },
   "outputs": [],
   "source": [
    "ex_df.isnull().any().value_counts()"
   ]
  },
  {
   "cell_type": "code",
   "execution_count": null,
   "id": "897cb2c8",
   "metadata": {},
   "outputs": [],
   "source": [
    "ex_df.columns"
   ]
  },
  {
   "cell_type": "code",
   "execution_count": 25,
   "id": "5adfe3c0",
   "metadata": {},
   "outputs": [],
   "source": [
    "ex_df=ex_df.drop(['model_name','fullDate','month_name','day_name','AIRPORT_x','CITY_x','STATE_x',\n",
    "              'AIRPORT_y','CITY_y','STATE_y'],axis=1)"
   ]
  },
  {
   "cell_type": "code",
   "execution_count": null,
   "id": "6c11a7f1",
   "metadata": {},
   "outputs": [],
   "source": [
    "# Select only the numerical columns\n",
    "numeric_columns = df.select_dtypes(include=['int64', 'float64']).columns.drop('class')\n",
    "\n",
    "# Store the data from the numerical columns in a NumPy array\n",
    "X = ex_df[numeric_columns].values\n",
    "\n",
    "# Create the scaler\n",
    "scaler = StandardScaler()\n",
    "\n",
    "# Fit the scaler to the data\n",
    "scaler.fit(X)\n",
    "\n",
    "# Scale the data\n",
    "X_scaled = scaler.transform(X)\n",
    "\n",
    "# Update the data in the DataFrame\n",
    "ex_df[numeric_columns] = X_scaled"
   ]
  },
  {
   "cell_type": "code",
   "execution_count": 26,
   "id": "474ed472",
   "metadata": {},
   "outputs": [
    {
     "data": {
      "text/plain": [
       "Index(['scheduledDeparture_key', 'DEPARTURE_TIME', 'DEPARTURE_DELAY',\n",
       "       'SCHEDULED_TIME', 'DISTANCE', 'scheduledArrival_key', 'ARRIVAL_TIME',\n",
       "       'dateKey', 'MONTH', 'DAY', 'DAY_OF_WEEK', 'LATITUDE_x', 'LONGITUDE_x',\n",
       "       'LATITUDE_y', 'LONGITUDE_y', 'Hour_x', 'Minute_x', 'Hour_y', 'Minute_y',\n",
       "       'class', 'AA', 'AS', 'B6', 'DL', 'EV', 'F9', 'HA', 'MQ', 'NK', 'OO',\n",
       "       'UA', 'US', 'VX', 'WN', 'AIRBUS', 'AVIAT AIRCRAFT INC', 'BARKER JACK L',\n",
       "       'BEECH', 'BELL', 'BENHAM JOHN', 'BOEING', 'BOMBARDIER INC', 'CANADAIR',\n",
       "       'CESSNA', 'CIRRUS DESIGN CORP', 'DASSAULT', 'DIAMOND AIRCRAFT IND INC',\n",
       "       'DOUGLAS', 'EMBRAER', 'EMBRAER S A', 'EXTRA FLUGZEUGBAU GMBH',\n",
       "       'GROSS ROBERT', 'GULFSTREAM AEROSPACE', 'GULFSTREAM AEROSPACE CORP',\n",
       "       'KILDALL GARY', 'LAMBERT RICHARD', 'LEARJET INC', 'MARZ BARRY',\n",
       "       'MCDONNELL DOUGLAS', 'MCDONNELL DOUGLAS AIRCRAFT CO',\n",
       "       'MCDONNELL DOUGLAS CORPORATION', 'PAIR MIKE E', 'PIPER',\n",
       "       'RAYTHEON AIRCRAFT COMPANY', 'ROBINSON HELICOPTER CO', 'SIKORSKY',\n",
       "       'SOCATA'],\n",
       "      dtype='object')"
      ]
     },
     "execution_count": 26,
     "metadata": {},
     "output_type": "execute_result"
    }
   ],
   "source": [
    "ex_df.columns"
   ]
  },
  {
   "cell_type": "markdown",
   "id": "2107c705",
   "metadata": {},
   "source": [
    "### Decision Trees"
   ]
  },
  {
   "cell_type": "markdown",
   "id": "42f32ac7",
   "metadata": {},
   "source": [
    "* Assign to x all the features that we will use for prediction and assign to y the class feature that we want to predict"
   ]
  },
  {
   "cell_type": "code",
   "execution_count": 34,
   "id": "c28112c8",
   "metadata": {},
   "outputs": [],
   "source": [
    "x= ex_df.drop(['DEPARTURE_DELAY','class','ARRIVAL_TIME','DAY', 'DAY_OF_WEEK','MONTH','DEPARTURE_TIME'],axis=1)  \n",
    "y= ex_df['class']"
   ]
  },
  {
   "cell_type": "code",
   "execution_count": 35,
   "id": "c29e13ca",
   "metadata": {},
   "outputs": [
    {
     "data": {
      "text/plain": [
       "Index(['scheduledDeparture_key', 'SCHEDULED_TIME', 'DISTANCE',\n",
       "       'scheduledArrival_key', 'dateKey', 'LATITUDE_x', 'LONGITUDE_x',\n",
       "       'LATITUDE_y', 'LONGITUDE_y', 'Hour_x', 'Minute_x', 'Hour_y', 'Minute_y',\n",
       "       'AA', 'AS', 'B6', 'DL', 'EV', 'F9', 'HA', 'MQ', 'NK', 'OO', 'UA', 'US',\n",
       "       'VX', 'WN', 'AIRBUS', 'AVIAT AIRCRAFT INC', 'BARKER JACK L', 'BEECH',\n",
       "       'BELL', 'BENHAM JOHN', 'BOEING', 'BOMBARDIER INC', 'CANADAIR', 'CESSNA',\n",
       "       'CIRRUS DESIGN CORP', 'DASSAULT', 'DIAMOND AIRCRAFT IND INC', 'DOUGLAS',\n",
       "       'EMBRAER', 'EMBRAER S A', 'EXTRA FLUGZEUGBAU GMBH', 'GROSS ROBERT',\n",
       "       'GULFSTREAM AEROSPACE', 'GULFSTREAM AEROSPACE CORP', 'KILDALL GARY',\n",
       "       'LAMBERT RICHARD', 'LEARJET INC', 'MARZ BARRY', 'MCDONNELL DOUGLAS',\n",
       "       'MCDONNELL DOUGLAS AIRCRAFT CO', 'MCDONNELL DOUGLAS CORPORATION',\n",
       "       'PAIR MIKE E', 'PIPER', 'RAYTHEON AIRCRAFT COMPANY',\n",
       "       'ROBINSON HELICOPTER CO', 'SIKORSKY', 'SOCATA'],\n",
       "      dtype='object')"
      ]
     },
     "execution_count": 35,
     "metadata": {},
     "output_type": "execute_result"
    }
   ],
   "source": [
    "x.columns"
   ]
  },
  {
   "cell_type": "markdown",
   "id": "10c65b4f",
   "metadata": {},
   "source": [
    "* Split to trainning and testing set with a 80:20 ratio"
   ]
  },
  {
   "cell_type": "code",
   "execution_count": 36,
   "id": "0b0eae40",
   "metadata": {},
   "outputs": [],
   "source": [
    "x_train, x_test, y_train, y_test= train_test_split(x, y, test_size= 0.2,random_state=0)  "
   ]
  },
  {
   "cell_type": "markdown",
   "id": "54742f6b",
   "metadata": {},
   "source": [
    "* Create a DecisionTreeClassifier based on the entropy"
   ]
  },
  {
   "cell_type": "code",
   "execution_count": 37,
   "id": "f9801d96",
   "metadata": {},
   "outputs": [
    {
     "name": "stdout",
     "output_type": "stream",
     "text": [
      "CPU times: total: 2min 4s\n",
      "Wall time: 2min 8s\n"
     ]
    }
   ],
   "source": [
    "%%time\n",
    "#Entropy\n",
    "classifier= DecisionTreeClassifier(criterion='entropy', random_state=0)  \n",
    "model=classifier.fit(x_train, y_train)  "
   ]
  },
  {
   "cell_type": "markdown",
   "id": "bcae0829",
   "metadata": {},
   "source": [
    "* Predicting the test set result based on the Entropy"
   ]
  },
  {
   "cell_type": "code",
   "execution_count": 38,
   "id": "6449a765",
   "metadata": {},
   "outputs": [],
   "source": [
    "#Predicting the test set result (Entropy)\n",
    "y_pred= classifier.predict(x_test)"
   ]
  },
  {
   "cell_type": "code",
   "execution_count": 39,
   "id": "f97f4245",
   "metadata": {},
   "outputs": [
    {
     "name": "stdout",
     "output_type": "stream",
     "text": [
      "65\n"
     ]
    }
   ],
   "source": [
    "print(classifier.tree_.max_depth)"
   ]
  },
  {
   "cell_type": "markdown",
   "id": "e05ae9f5",
   "metadata": {},
   "source": [
    " Create a DecisionTreeClassifier based on the gini index"
   ]
  },
  {
   "cell_type": "code",
   "execution_count": null,
   "id": "aa781289",
   "metadata": {},
   "outputs": [],
   "source": [
    "%%time\n",
    "#Gini\n",
    "classifier1= DecisionTreeClassifier(criterion='gini', random_state=0)  \n",
    "model1=classifier1.fit(x_train, y_train) "
   ]
  },
  {
   "cell_type": "markdown",
   "id": "24bc98e8",
   "metadata": {},
   "source": [
    "* Predicting the test set result based on the gini index"
   ]
  },
  {
   "cell_type": "code",
   "execution_count": null,
   "id": "d862c180",
   "metadata": {},
   "outputs": [],
   "source": [
    "#Predicting the test set result (Gini)\n",
    "y_pred1= classifier1.predict(x_test)"
   ]
  },
  {
   "cell_type": "markdown",
   "id": "4dfd8a57",
   "metadata": {},
   "source": [
    "### Print the classification report and interpret the results"
   ]
  },
  {
   "cell_type": "code",
   "execution_count": 40,
   "id": "ccfbb2a5",
   "metadata": {},
   "outputs": [
    {
     "name": "stdout",
     "output_type": "stream",
     "text": [
      "              precision    recall  f1-score   support\n",
      "\n",
      "           0       0.49      0.56      0.52    275349\n",
      "           1       0.58      0.56      0.57    396086\n",
      "           2       0.25      0.20      0.22    110819\n",
      "\n",
      "    accuracy                           0.51    782254\n",
      "   macro avg       0.44      0.44      0.44    782254\n",
      "weighted avg       0.50      0.51      0.50    782254\n",
      "\n",
      "F1 score: 0.506197475500285\n"
     ]
    }
   ],
   "source": [
    "# Print the classification report (Entropy)\n",
    "report = classification_report(y_test, y_pred)\n",
    "print(report)\n",
    "\n",
    "# Print the F1 score\n",
    "f1 = f1_score(y_test, y_pred, average=\"micro\")\n",
    "print(\"F1 score:\", f1)"
   ]
  },
  {
   "cell_type": "code",
   "execution_count": null,
   "id": "8d55d43f",
   "metadata": {},
   "outputs": [],
   "source": [
    "# Print the classification report(Gini)\n",
    "report = classification_report(y_test, y_pred1)\n",
    "print(report)\n",
    "\n",
    "# Print the F1 score\n",
    "f1 = f1_score(y_test, y_pred1, average=\"micro\")\n",
    "print(\"F1 score:\", f1)"
   ]
  },
  {
   "cell_type": "markdown",
   "id": "e870d938",
   "metadata": {},
   "source": [
    "### XGBOOST"
   ]
  },
  {
   "cell_type": "code",
   "execution_count": null,
   "id": "96e3444f",
   "metadata": {},
   "outputs": [],
   "source": [
    "# Remove duplicate columns\n",
    "ex_df = ex_df.loc[:, ~ex_df.columns.duplicated()]"
   ]
  },
  {
   "cell_type": "code",
   "execution_count": null,
   "id": "6812001c",
   "metadata": {},
   "outputs": [],
   "source": [
    "x= ex_df.drop(['class','ARRIVAL_TIME','DEPARTURE_TIME','MONTH','Hour_x','Hour_y','DAY','DAY_OF_WEEK'],axis=1)  \n",
    "y= ex_df['class']"
   ]
  },
  {
   "cell_type": "code",
   "execution_count": null,
   "id": "123f3c20",
   "metadata": {},
   "outputs": [],
   "source": [
    "x.columns"
   ]
  },
  {
   "cell_type": "code",
   "execution_count": null,
   "id": "b3770747",
   "metadata": {},
   "outputs": [],
   "source": [
    "x_train, x_test, y_train, y_test= train_test_split(x, y, test_size= 0.25,random_state=0)  "
   ]
  },
  {
   "cell_type": "code",
   "execution_count": null,
   "id": "5bc86e80",
   "metadata": {},
   "outputs": [],
   "source": [
    "%%time\n",
    "# Create the classifier\n",
    "clf = XGBClassifier(max_depth=25,n_estimators=100)\n",
    "\n",
    "# Fit the classifier to the training data\n",
    "clf.fit(x_train, y_train)\n",
    "\n",
    "# Make predictions on the test data\n",
    "predictions = clf.predict(x_test)\n"
   ]
  },
  {
   "cell_type": "code",
   "execution_count": null,
   "id": "b3f77b85",
   "metadata": {},
   "outputs": [],
   "source": [
    "# Print the classification report(Gini)\n",
    "report = classification_report(y_test, predictions)\n",
    "print(report)\n",
    "\n",
    "# Print the F1 score\n",
    "f1 = f1_score(y_test, predictions, average=\"micro\")\n",
    "print(\"F1 score:\", f1)"
   ]
  },
  {
   "cell_type": "code",
   "execution_count": null,
   "id": "8b4839f1",
   "metadata": {},
   "outputs": [],
   "source": [
    "# Calculate the confusion matrix for the test set\n",
    "confusion_matrix = confusion_matrix(y_test, predictions)\n",
    "\n",
    "# Print the confusion matrix\n",
    "print(confusion_matrix)"
   ]
  },
  {
   "cell_type": "code",
   "execution_count": null,
   "id": "24a1e379",
   "metadata": {},
   "outputs": [],
   "source": [
    "# Plot the feature importance scores, excluding the first two columns\n",
    "xgb.plot_importance(clf,importance_type='weight', max_num_features=11)"
   ]
  },
  {
   "cell_type": "markdown",
   "id": "3cb76aa4",
   "metadata": {},
   "source": [
    "### Evaluate the model "
   ]
  },
  {
   "cell_type": "code",
   "execution_count": null,
   "id": "6d8b8363",
   "metadata": {},
   "outputs": [],
   "source": [
    "# Evaluate the model on the test data\n",
    "test_score = clf.score(x_test, y_test)\n",
    "\n",
    "# Evaluate the model on the training data\n",
    "train_score = clf.score(x_train, y_train)\n",
    "\n",
    "# Print the scores\n",
    "print(f\"Test score: {test_score:.3f}\")\n",
    "print(f\"Train score: {train_score:.3f}\")"
   ]
  }
 ],
 "metadata": {
  "kernelspec": {
   "display_name": "Python 3 (ipykernel)",
   "language": "python",
   "name": "python3"
  },
  "language_info": {
   "codemirror_mode": {
    "name": "ipython",
    "version": 3
   },
   "file_extension": ".py",
   "mimetype": "text/x-python",
   "name": "python",
   "nbconvert_exporter": "python",
   "pygments_lexer": "ipython3",
   "version": "3.10.2"
  }
 },
 "nbformat": 4,
 "nbformat_minor": 5
}
