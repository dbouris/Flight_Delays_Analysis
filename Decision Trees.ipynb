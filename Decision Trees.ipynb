{
 "cells": [
  {
   "cell_type": "markdown",
   "id": "c9782388",
   "metadata": {},
   "source": [
    "## Decision Trees for multiclassification"
   ]
  },
  {
   "cell_type": "markdown",
   "id": "64034955",
   "metadata": {},
   "source": [
    "### Import Data"
   ]
  },
  {
   "cell_type": "code",
   "execution_count": 207,
   "id": "bb01e717",
   "metadata": {},
   "outputs": [],
   "source": [
    "#! pip install xgboost\n",
    "#! pip install imblearn\n",
    "import pandas as pd\n",
    "from sklearn.tree import DecisionTreeClassifier\n",
    "from sklearn.preprocessing import LabelEncoder\n",
    "from sklearn.model_selection import train_test_split  \n",
    "from sklearn.preprocessing import StandardScaler\n",
    "from sklearn.metrics import classification_report, f1_score,roc_curve, roc_auc_score\n",
    "from sklearn.feature_selection import RFECV\n",
    "from sklearn.ensemble import RandomForestClassifier\n",
    "from sklearn.preprocessing import OneHotEncoder\n",
    "import xgboost as xgb\n",
    "from xgboost import XGBClassifier\n",
    "from sklearn.metrics import confusion_matrix\n",
    "from imblearn.over_sampling import SMOTE\n",
    "import seaborn as sns\n",
    "import matplotlib.pyplot as plt\n",
    "from sklearn.metrics import precision_recall_curve"
   ]
  },
  {
   "cell_type": "markdown",
   "id": "63df378a",
   "metadata": {},
   "source": [
    "### Read all the CSV files"
   ]
  },
  {
   "cell_type": "code",
   "execution_count": 32,
   "id": "58e4337e",
   "metadata": {},
   "outputs": [
    {
     "name": "stdout",
     "output_type": "stream",
     "text": [
      "CPU times: total: 16.7 s\n",
      "Wall time: 20.6 s\n"
     ]
    }
   ],
   "source": [
    "%%time\n",
    "df= pd.read_csv('CSV/flights_fact.csv',low_memory=False)"
   ]
  },
  {
   "cell_type": "code",
   "execution_count": 33,
   "id": "e601cd37",
   "metadata": {},
   "outputs": [],
   "source": [
    "aircraft_dim= pd.read_csv('CSV/aircraft_dim.csv')\n",
    "aircraft_dim = aircraft_dim.rename(columns={'N-Number': 'TAIL_NUMBER'})"
   ]
  },
  {
   "cell_type": "code",
   "execution_count": 34,
   "id": "5922161b",
   "metadata": {},
   "outputs": [],
   "source": [
    "date_dim=pd.read_csv('CSV/date_dim.csv')"
   ]
  },
  {
   "cell_type": "code",
   "execution_count": 35,
   "id": "bfec5f45",
   "metadata": {},
   "outputs": [],
   "source": [
    "arrivalAirport_dim=pd.read_csv('CSV/arrivalAirport_dim.csv')\n",
    "arrivalAirport_dim = arrivalAirport_dim.rename(columns={'IATA_CODE': 'DESTINATION_AIRPORT'})"
   ]
  },
  {
   "cell_type": "code",
   "execution_count": 36,
   "id": "6d3e3af2",
   "metadata": {},
   "outputs": [],
   "source": [
    "departureAirport_dim=pd.read_csv('CSV/departureAirport_dim.csv')\n",
    "departureAirport_dim = departureAirport_dim.rename(columns={'IATA_CODE': 'ORIGIN_AIRPORT'})"
   ]
  },
  {
   "cell_type": "code",
   "execution_count": 37,
   "id": "b311e83c",
   "metadata": {},
   "outputs": [],
   "source": [
    "departureTime_dim=pd.read_csv('CSV/departureTime_dim.csv')"
   ]
  },
  {
   "cell_type": "code",
   "execution_count": 38,
   "id": "c5b70dce",
   "metadata": {},
   "outputs": [],
   "source": [
    "arrivalTime_dim=pd.read_csv('CSV/arrivalTime_dim.csv')"
   ]
  },
  {
   "cell_type": "markdown",
   "id": "27963578",
   "metadata": {},
   "source": [
    "* Merge the fact table with the dimension tables"
   ]
  },
  {
   "cell_type": "code",
   "execution_count": 39,
   "id": "7fee39dd",
   "metadata": {},
   "outputs": [
    {
     "name": "stdout",
     "output_type": "stream",
     "text": [
      "CPU times: total: 22.6 s\n",
      "Wall time: 25 s\n"
     ]
    }
   ],
   "source": [
    "%%time\n",
    "\n",
    "df=pd.merge(df,aircraft_dim, on='TAIL_NUMBER', how='inner')\n",
    "df=pd.merge(df,date_dim, on='dateKey', how='inner')\n",
    "df=pd.merge(df,arrivalAirport_dim, on='DESTINATION_AIRPORT', how='inner')\n",
    "df=pd.merge(df,departureAirport_dim, on='ORIGIN_AIRPORT', how='inner')\n",
    "df=pd.merge(df,departureTime_dim,on='scheduledDeparture_key',how='inner')\n",
    "df=pd.merge(df,arrivalTime_dim,on='scheduledArrival_key',how='inner')"
   ]
  },
  {
   "cell_type": "markdown",
   "id": "dd87023d",
   "metadata": {},
   "source": [
    "* Create a new method called get_value that creates a new column called 'class' and assigns the values 0,1,2 to the classes early,on_time,delayed respectively if those classes appear to be 1 in the initial dataset."
   ]
  },
  {
   "cell_type": "code",
   "execution_count": 14,
   "id": "062410df",
   "metadata": {},
   "outputs": [
    {
     "name": "stdout",
     "output_type": "stream",
     "text": [
      "CPU times: total: 56.2 s\n",
      "Wall time: 1min 29s\n"
     ]
    }
   ],
   "source": [
    "%%time \n",
    "\n",
    "def get_value(df):\n",
    "    if df['early'] == 1:\n",
    "        return 0\n",
    "    elif df['on_time'] == 1:\n",
    "        return 1\n",
    "    elif df['delayed'] == 1:\n",
    "        return 2\n",
    "\n",
    "df['class'] = df.apply(lambda df: get_value(df), axis=1)\n"
   ]
  },
  {
   "cell_type": "code",
   "execution_count": 218,
   "id": "978ccebe",
   "metadata": {},
   "outputs": [
    {
     "data": {
      "text/plain": [
       "0    3318731\n",
       "1     592537\n",
       "Name: delayed, dtype: int64"
      ]
     },
     "execution_count": 218,
     "metadata": {},
     "output_type": "execute_result"
    }
   ],
   "source": [
    "df['delayed'].value_counts()"
   ]
  },
  {
   "cell_type": "code",
   "execution_count": 219,
   "id": "8f4b841b",
   "metadata": {},
   "outputs": [
    {
     "data": {
      "text/html": [
       "<div>\n",
       "<style scoped>\n",
       "    .dataframe tbody tr th:only-of-type {\n",
       "        vertical-align: middle;\n",
       "    }\n",
       "\n",
       "    .dataframe tbody tr th {\n",
       "        vertical-align: top;\n",
       "    }\n",
       "\n",
       "    .dataframe thead th {\n",
       "        text-align: right;\n",
       "    }\n",
       "</style>\n",
       "<table border=\"1\" class=\"dataframe\">\n",
       "  <thead>\n",
       "    <tr style=\"text-align: right;\">\n",
       "      <th></th>\n",
       "      <th>DEPARTURE_TIME</th>\n",
       "      <th>DEPARTURE_DELAY</th>\n",
       "      <th>SCHEDULED_TIME</th>\n",
       "      <th>DISTANCE</th>\n",
       "      <th>dateKey</th>\n",
       "      <th>delayed</th>\n",
       "      <th>LATITUDE_x</th>\n",
       "      <th>LONGITUDE_x</th>\n",
       "      <th>LATITUDE_y</th>\n",
       "      <th>LONGITUDE_y</th>\n",
       "      <th>...</th>\n",
       "      <th>EV</th>\n",
       "      <th>F9</th>\n",
       "      <th>HA</th>\n",
       "      <th>MQ</th>\n",
       "      <th>NK</th>\n",
       "      <th>OO</th>\n",
       "      <th>UA</th>\n",
       "      <th>US</th>\n",
       "      <th>VX</th>\n",
       "      <th>WN</th>\n",
       "    </tr>\n",
       "  </thead>\n",
       "  <tbody>\n",
       "    <tr>\n",
       "      <th>0</th>\n",
       "      <td>2354.0</td>\n",
       "      <td>-11.0</td>\n",
       "      <td>205.0</td>\n",
       "      <td>1448</td>\n",
       "      <td>20150101</td>\n",
       "      <td>0</td>\n",
       "      <td>47.44898</td>\n",
       "      <td>-122.30931</td>\n",
       "      <td>61.17432</td>\n",
       "      <td>-149.99619</td>\n",
       "      <td>...</td>\n",
       "      <td>0</td>\n",
       "      <td>0</td>\n",
       "      <td>0</td>\n",
       "      <td>0</td>\n",
       "      <td>0</td>\n",
       "      <td>0</td>\n",
       "      <td>0</td>\n",
       "      <td>0</td>\n",
       "      <td>0</td>\n",
       "      <td>0</td>\n",
       "    </tr>\n",
       "    <tr>\n",
       "      <th>1</th>\n",
       "      <td>2353.0</td>\n",
       "      <td>-12.0</td>\n",
       "      <td>205.0</td>\n",
       "      <td>1448</td>\n",
       "      <td>20150102</td>\n",
       "      <td>0</td>\n",
       "      <td>47.44898</td>\n",
       "      <td>-122.30931</td>\n",
       "      <td>61.17432</td>\n",
       "      <td>-149.99619</td>\n",
       "      <td>...</td>\n",
       "      <td>0</td>\n",
       "      <td>0</td>\n",
       "      <td>0</td>\n",
       "      <td>0</td>\n",
       "      <td>0</td>\n",
       "      <td>0</td>\n",
       "      <td>0</td>\n",
       "      <td>0</td>\n",
       "      <td>0</td>\n",
       "      <td>0</td>\n",
       "    </tr>\n",
       "    <tr>\n",
       "      <th>2</th>\n",
       "      <td>41.0</td>\n",
       "      <td>36.0</td>\n",
       "      <td>205.0</td>\n",
       "      <td>1448</td>\n",
       "      <td>20150104</td>\n",
       "      <td>1</td>\n",
       "      <td>47.44898</td>\n",
       "      <td>-122.30931</td>\n",
       "      <td>61.17432</td>\n",
       "      <td>-149.99619</td>\n",
       "      <td>...</td>\n",
       "      <td>0</td>\n",
       "      <td>0</td>\n",
       "      <td>0</td>\n",
       "      <td>0</td>\n",
       "      <td>0</td>\n",
       "      <td>0</td>\n",
       "      <td>0</td>\n",
       "      <td>0</td>\n",
       "      <td>0</td>\n",
       "      <td>0</td>\n",
       "    </tr>\n",
       "    <tr>\n",
       "      <th>3</th>\n",
       "      <td>2358.0</td>\n",
       "      <td>-7.0</td>\n",
       "      <td>205.0</td>\n",
       "      <td>1448</td>\n",
       "      <td>20150108</td>\n",
       "      <td>0</td>\n",
       "      <td>47.44898</td>\n",
       "      <td>-122.30931</td>\n",
       "      <td>61.17432</td>\n",
       "      <td>-149.99619</td>\n",
       "      <td>...</td>\n",
       "      <td>0</td>\n",
       "      <td>0</td>\n",
       "      <td>0</td>\n",
       "      <td>0</td>\n",
       "      <td>0</td>\n",
       "      <td>0</td>\n",
       "      <td>0</td>\n",
       "      <td>0</td>\n",
       "      <td>0</td>\n",
       "      <td>0</td>\n",
       "    </tr>\n",
       "    <tr>\n",
       "      <th>4</th>\n",
       "      <td>2354.0</td>\n",
       "      <td>-11.0</td>\n",
       "      <td>205.0</td>\n",
       "      <td>1448</td>\n",
       "      <td>20150109</td>\n",
       "      <td>0</td>\n",
       "      <td>47.44898</td>\n",
       "      <td>-122.30931</td>\n",
       "      <td>61.17432</td>\n",
       "      <td>-149.99619</td>\n",
       "      <td>...</td>\n",
       "      <td>0</td>\n",
       "      <td>0</td>\n",
       "      <td>0</td>\n",
       "      <td>0</td>\n",
       "      <td>0</td>\n",
       "      <td>0</td>\n",
       "      <td>0</td>\n",
       "      <td>0</td>\n",
       "      <td>0</td>\n",
       "      <td>0</td>\n",
       "    </tr>\n",
       "    <tr>\n",
       "      <th>...</th>\n",
       "      <td>...</td>\n",
       "      <td>...</td>\n",
       "      <td>...</td>\n",
       "      <td>...</td>\n",
       "      <td>...</td>\n",
       "      <td>...</td>\n",
       "      <td>...</td>\n",
       "      <td>...</td>\n",
       "      <td>...</td>\n",
       "      <td>...</td>\n",
       "      <td>...</td>\n",
       "      <td>...</td>\n",
       "      <td>...</td>\n",
       "      <td>...</td>\n",
       "      <td>...</td>\n",
       "      <td>...</td>\n",
       "      <td>...</td>\n",
       "      <td>...</td>\n",
       "      <td>...</td>\n",
       "      <td>...</td>\n",
       "      <td>...</td>\n",
       "    </tr>\n",
       "    <tr>\n",
       "      <th>3919448</th>\n",
       "      <td>10.0</td>\n",
       "      <td>-4.0</td>\n",
       "      <td>161.0</td>\n",
       "      <td>1012</td>\n",
       "      <td>20151129</td>\n",
       "      <td>0</td>\n",
       "      <td>27.97547</td>\n",
       "      <td>-82.53325</td>\n",
       "      <td>41.97960</td>\n",
       "      <td>-87.90446</td>\n",
       "      <td>...</td>\n",
       "      <td>0</td>\n",
       "      <td>0</td>\n",
       "      <td>0</td>\n",
       "      <td>0</td>\n",
       "      <td>0</td>\n",
       "      <td>0</td>\n",
       "      <td>1</td>\n",
       "      <td>0</td>\n",
       "      <td>0</td>\n",
       "      <td>0</td>\n",
       "    </tr>\n",
       "    <tr>\n",
       "      <th>3919449</th>\n",
       "      <td>10.0</td>\n",
       "      <td>-4.0</td>\n",
       "      <td>161.0</td>\n",
       "      <td>1012</td>\n",
       "      <td>20151130</td>\n",
       "      <td>0</td>\n",
       "      <td>27.97547</td>\n",
       "      <td>-82.53325</td>\n",
       "      <td>41.97960</td>\n",
       "      <td>-87.90446</td>\n",
       "      <td>...</td>\n",
       "      <td>0</td>\n",
       "      <td>0</td>\n",
       "      <td>0</td>\n",
       "      <td>0</td>\n",
       "      <td>0</td>\n",
       "      <td>0</td>\n",
       "      <td>1</td>\n",
       "      <td>0</td>\n",
       "      <td>0</td>\n",
       "      <td>0</td>\n",
       "    </tr>\n",
       "    <tr>\n",
       "      <th>3919450</th>\n",
       "      <td>16.0</td>\n",
       "      <td>2.0</td>\n",
       "      <td>186.0</td>\n",
       "      <td>1024</td>\n",
       "      <td>20151219</td>\n",
       "      <td>0</td>\n",
       "      <td>47.44898</td>\n",
       "      <td>-122.30931</td>\n",
       "      <td>39.85841</td>\n",
       "      <td>-104.66700</td>\n",
       "      <td>...</td>\n",
       "      <td>0</td>\n",
       "      <td>0</td>\n",
       "      <td>0</td>\n",
       "      <td>0</td>\n",
       "      <td>0</td>\n",
       "      <td>0</td>\n",
       "      <td>1</td>\n",
       "      <td>0</td>\n",
       "      <td>0</td>\n",
       "      <td>0</td>\n",
       "    </tr>\n",
       "    <tr>\n",
       "      <th>3919451</th>\n",
       "      <td>48.0</td>\n",
       "      <td>26.0</td>\n",
       "      <td>130.0</td>\n",
       "      <td>773</td>\n",
       "      <td>20151228</td>\n",
       "      <td>1</td>\n",
       "      <td>32.12758</td>\n",
       "      <td>-81.20214</td>\n",
       "      <td>41.97960</td>\n",
       "      <td>-87.90446</td>\n",
       "      <td>...</td>\n",
       "      <td>1</td>\n",
       "      <td>0</td>\n",
       "      <td>0</td>\n",
       "      <td>0</td>\n",
       "      <td>0</td>\n",
       "      <td>0</td>\n",
       "      <td>0</td>\n",
       "      <td>0</td>\n",
       "      <td>0</td>\n",
       "      <td>0</td>\n",
       "    </tr>\n",
       "    <tr>\n",
       "      <th>3919452</th>\n",
       "      <td>30.0</td>\n",
       "      <td>7.0</td>\n",
       "      <td>124.0</td>\n",
       "      <td>627</td>\n",
       "      <td>20151218</td>\n",
       "      <td>0</td>\n",
       "      <td>46.91935</td>\n",
       "      <td>-96.81499</td>\n",
       "      <td>39.85841</td>\n",
       "      <td>-104.66700</td>\n",
       "      <td>...</td>\n",
       "      <td>0</td>\n",
       "      <td>0</td>\n",
       "      <td>0</td>\n",
       "      <td>0</td>\n",
       "      <td>0</td>\n",
       "      <td>1</td>\n",
       "      <td>0</td>\n",
       "      <td>0</td>\n",
       "      <td>0</td>\n",
       "      <td>0</td>\n",
       "    </tr>\n",
       "  </tbody>\n",
       "</table>\n",
       "<p>3911268 rows × 26 columns</p>\n",
       "</div>"
      ],
      "text/plain": [
       "         DEPARTURE_TIME  DEPARTURE_DELAY  SCHEDULED_TIME  DISTANCE   dateKey  \\\n",
       "0                2354.0            -11.0           205.0      1448  20150101   \n",
       "1                2353.0            -12.0           205.0      1448  20150102   \n",
       "2                  41.0             36.0           205.0      1448  20150104   \n",
       "3                2358.0             -7.0           205.0      1448  20150108   \n",
       "4                2354.0            -11.0           205.0      1448  20150109   \n",
       "...                 ...              ...             ...       ...       ...   \n",
       "3919448            10.0             -4.0           161.0      1012  20151129   \n",
       "3919449            10.0             -4.0           161.0      1012  20151130   \n",
       "3919450            16.0              2.0           186.0      1024  20151219   \n",
       "3919451            48.0             26.0           130.0       773  20151228   \n",
       "3919452            30.0              7.0           124.0       627  20151218   \n",
       "\n",
       "         delayed  LATITUDE_x  LONGITUDE_x  LATITUDE_y  LONGITUDE_y  ...  EV  \\\n",
       "0              0    47.44898   -122.30931    61.17432   -149.99619  ...   0   \n",
       "1              0    47.44898   -122.30931    61.17432   -149.99619  ...   0   \n",
       "2              1    47.44898   -122.30931    61.17432   -149.99619  ...   0   \n",
       "3              0    47.44898   -122.30931    61.17432   -149.99619  ...   0   \n",
       "4              0    47.44898   -122.30931    61.17432   -149.99619  ...   0   \n",
       "...          ...         ...          ...         ...          ...  ...  ..   \n",
       "3919448        0    27.97547    -82.53325    41.97960    -87.90446  ...   0   \n",
       "3919449        0    27.97547    -82.53325    41.97960    -87.90446  ...   0   \n",
       "3919450        0    47.44898   -122.30931    39.85841   -104.66700  ...   0   \n",
       "3919451        1    32.12758    -81.20214    41.97960    -87.90446  ...   1   \n",
       "3919452        0    46.91935    -96.81499    39.85841   -104.66700  ...   0   \n",
       "\n",
       "         F9  HA  MQ  NK  OO  UA  US  VX  WN  \n",
       "0         0   0   0   0   0   0   0   0   0  \n",
       "1         0   0   0   0   0   0   0   0   0  \n",
       "2         0   0   0   0   0   0   0   0   0  \n",
       "3         0   0   0   0   0   0   0   0   0  \n",
       "4         0   0   0   0   0   0   0   0   0  \n",
       "...      ..  ..  ..  ..  ..  ..  ..  ..  ..  \n",
       "3919448   0   0   0   0   0   1   0   0   0  \n",
       "3919449   0   0   0   0   0   1   0   0   0  \n",
       "3919450   0   0   0   0   0   1   0   0   0  \n",
       "3919451   0   0   0   0   0   0   0   0   0  \n",
       "3919452   0   0   0   0   1   0   0   0   0  \n",
       "\n",
       "[3911268 rows x 26 columns]"
      ]
     },
     "execution_count": 219,
     "metadata": {},
     "output_type": "execute_result"
    }
   ],
   "source": [
    "df"
   ]
  },
  {
   "cell_type": "markdown",
   "id": "28e9b35c",
   "metadata": {},
   "source": [
    "### Print merged Dataframe "
   ]
  },
  {
   "cell_type": "code",
   "execution_count": 40,
   "id": "e90bc41b",
   "metadata": {},
   "outputs": [
    {
     "data": {
      "text/plain": [
       "Index(['AIRLINE', 'FLIGHT_NUMBER', 'TAIL_NUMBER', 'ORIGIN_AIRPORT',\n",
       "       'DESTINATION_AIRPORT', 'scheduledDeparture_key', 'DEPARTURE_TIME',\n",
       "       'DEPARTURE_DELAY', 'TAXI_OUT', 'WHEELS_OFF', 'SCHEDULED_TIME',\n",
       "       'ELAPSED_TIME', 'AIR_TIME', 'DISTANCE', 'WHEELS_ON', 'TAXI_IN',\n",
       "       'scheduledArrival_key', 'ARRIVAL_TIME', 'ARRIVAL_DELAY', 'DIVERTED',\n",
       "       'CANCELLED', 'CANCELLATION_REASON', 'AIR_SYSTEM_DELAY',\n",
       "       'SECURITY_DELAY', 'AIRLINE_DELAY', 'LATE_AIRCRAFT_DELAY',\n",
       "       'WEATHER_DELAY', 'dateKey', 'early', 'on_time', 'delayed', 'new_delay',\n",
       "       'AircraftMFRModelCode', 'Year Mfr', 'TypeAcft', 'mfr_name',\n",
       "       'model_name', 'type', 'num_engines', 'num_passengers', 'YEAR', 'MONTH',\n",
       "       'DAY', 'DAY_OF_WEEK', 'fullDate', 'month_name', 'day_name', 'AIRPORT_x',\n",
       "       'CITY_x', 'STATE_x', 'COUNTRY_x', 'LATITUDE_x', 'LONGITUDE_x',\n",
       "       'AIRPORT_y', 'CITY_y', 'STATE_y', 'COUNTRY_y', 'LATITUDE_y',\n",
       "       'LONGITUDE_y', 'Hour_x', 'Minute_x', 'Hour_y', 'Minute_y'],\n",
       "      dtype='object')"
      ]
     },
     "execution_count": 40,
     "metadata": {},
     "output_type": "execute_result"
    }
   ],
   "source": [
    "df.columns"
   ]
  },
  {
   "cell_type": "markdown",
   "id": "5c2c7a7a",
   "metadata": {},
   "source": [
    "### Remove unwanted columns"
   ]
  },
  {
   "cell_type": "code",
   "execution_count": 41,
   "id": "f1a61889",
   "metadata": {},
   "outputs": [],
   "source": [
    "df=df.drop(['YEAR','FLIGHT_NUMBER','TAIL_NUMBER','TAXI_OUT','WHEELS_OFF','ELAPSED_TIME', 'AIR_TIME','WHEELS_ON',\n",
    "            'TAXI_IN','CANCELLATION_REASON','ARRIVAL_DELAY','early','on_time',\n",
    "              'new_delay','DIVERTED','CANCELLED','AIR_SYSTEM_DELAY','SECURITY_DELAY','AIRLINE_DELAY',\n",
    "                    'WEATHER_DELAY','YEAR','LATE_AIRCRAFT_DELAY','num_engines','num_passengers','Year Mfr','TypeAcft',\n",
    "           'type','AircraftMFRModelCode','COUNTRY_x','COUNTRY_y','mfr_name','scheduledArrival_key','scheduledDeparture_key',\n",
    "           'DAY', 'DAY_OF_WEEK', 'fullDate', 'month_name', 'day_name','CITY_x', 'STATE_x',\n",
    "            'COUNTRY_x','CITY_y', 'STATE_y', 'COUNTRY_y','model_name'], axis=1)\n"
   ]
  },
  {
   "cell_type": "code",
   "execution_count": 42,
   "id": "974745e6",
   "metadata": {},
   "outputs": [
    {
     "data": {
      "text/plain": [
       "AIRLINE                   0\n",
       "ORIGIN_AIRPORT            0\n",
       "DESTINATION_AIRPORT       0\n",
       "DEPARTURE_TIME            0\n",
       "DEPARTURE_DELAY           0\n",
       "SCHEDULED_TIME            0\n",
       "DISTANCE                  0\n",
       "ARRIVAL_TIME              0\n",
       "dateKey                   0\n",
       "delayed                   0\n",
       "MONTH                     0\n",
       "AIRPORT_x                 0\n",
       "LATITUDE_x             4132\n",
       "LONGITUDE_x            4132\n",
       "AIRPORT_y                 0\n",
       "LATITUDE_y             4053\n",
       "LONGITUDE_y            4053\n",
       "Hour_x                    0\n",
       "Minute_x                  0\n",
       "Hour_y                    0\n",
       "Minute_y                  0\n",
       "dtype: int64"
      ]
     },
     "execution_count": 42,
     "metadata": {},
     "output_type": "execute_result"
    }
   ],
   "source": [
    "df.isna().sum()"
   ]
  },
  {
   "cell_type": "code",
   "execution_count": 43,
   "id": "025a796e",
   "metadata": {},
   "outputs": [],
   "source": [
    "df.dropna(subset=['LATITUDE_x','LATITUDE_y','LONGITUDE_x','LONGITUDE_y'], inplace=True)"
   ]
  },
  {
   "cell_type": "code",
   "execution_count": 44,
   "id": "aba7b3e9",
   "metadata": {},
   "outputs": [
    {
     "data": {
      "text/plain": [
       "AIRLINE                0\n",
       "ORIGIN_AIRPORT         0\n",
       "DESTINATION_AIRPORT    0\n",
       "DEPARTURE_TIME         0\n",
       "DEPARTURE_DELAY        0\n",
       "SCHEDULED_TIME         0\n",
       "DISTANCE               0\n",
       "ARRIVAL_TIME           0\n",
       "dateKey                0\n",
       "delayed                0\n",
       "MONTH                  0\n",
       "AIRPORT_x              0\n",
       "LATITUDE_x             0\n",
       "LONGITUDE_x            0\n",
       "AIRPORT_y              0\n",
       "LATITUDE_y             0\n",
       "LONGITUDE_y            0\n",
       "Hour_x                 0\n",
       "Minute_x               0\n",
       "Hour_y                 0\n",
       "Minute_y               0\n",
       "dtype: int64"
      ]
     },
     "execution_count": 44,
     "metadata": {},
     "output_type": "execute_result"
    }
   ],
   "source": [
    "df.isna().sum()"
   ]
  },
  {
   "cell_type": "code",
   "execution_count": 19,
   "id": "2a1c6d44",
   "metadata": {},
   "outputs": [
    {
     "name": "stdout",
     "output_type": "stream",
     "text": [
      "<class 'pandas.core.frame.DataFrame'>\n",
      "Int64Index: 3911268 entries, 0 to 3919452\n",
      "Data columns (total 35 columns):\n",
      " #   Column                  Dtype  \n",
      "---  ------                  -----  \n",
      " 0   AIRLINE                 object \n",
      " 1   ORIGIN_AIRPORT          object \n",
      " 2   DESTINATION_AIRPORT     object \n",
      " 3   scheduledDeparture_key  int64  \n",
      " 4   DEPARTURE_TIME          float64\n",
      " 5   DEPARTURE_DELAY         float64\n",
      " 6   SCHEDULED_TIME          float64\n",
      " 7   DISTANCE                int64  \n",
      " 8   scheduledArrival_key    int64  \n",
      " 9   ARRIVAL_TIME            float64\n",
      " 10  dateKey                 int64  \n",
      " 11  Unnamed: 0              int64  \n",
      " 12  mfr_name                object \n",
      " 13  model_name              object \n",
      " 14  MONTH                   int64  \n",
      " 15  DAY                     int64  \n",
      " 16  DAY_OF_WEEK             int64  \n",
      " 17  fullDate                object \n",
      " 18  month_name              object \n",
      " 19  day_name                object \n",
      " 20  AIRPORT_x               object \n",
      " 21  CITY_x                  object \n",
      " 22  STATE_x                 object \n",
      " 23  LATITUDE_x              float64\n",
      " 24  LONGITUDE_x             float64\n",
      " 25  AIRPORT_y               object \n",
      " 26  CITY_y                  object \n",
      " 27  STATE_y                 object \n",
      " 28  LATITUDE_y              float64\n",
      " 29  LONGITUDE_y             float64\n",
      " 30  Hour_x                  int64  \n",
      " 31  Minute_x                int64  \n",
      " 32  Hour_y                  int64  \n",
      " 33  Minute_y                int64  \n",
      " 34  class                   int64  \n",
      "dtypes: float64(8), int64(13), object(14)\n",
      "memory usage: 1.0+ GB\n"
     ]
    }
   ],
   "source": [
    "df.info()"
   ]
  },
  {
   "cell_type": "markdown",
   "id": "19e481eb",
   "metadata": {},
   "source": [
    "### Perform Correlation Statistic Test"
   ]
  },
  {
   "cell_type": "code",
   "execution_count": 45,
   "id": "648245aa",
   "metadata": {},
   "outputs": [
    {
     "data": {
      "text/plain": [
       "<AxesSubplot: >"
      ]
     },
     "execution_count": 45,
     "metadata": {},
     "output_type": "execute_result"
    },
    {
     "data": {
      "image/png": "[encoded data removed]",
      "text/plain": [
       "<Figure size 432x288 with 2 Axes>"
      ]
     },
     "metadata": {
      "needs_background": "light"
     },
     "output_type": "display_data"
    }
   ],
   "source": [
    "sns.heatmap(df.corr())"
   ]
  },
  {
   "cell_type": "code",
   "execution_count": 47,
   "id": "3e710d20",
   "metadata": {},
   "outputs": [
    {
     "data": {
      "text/plain": [
       "DEPARTURE_DELAY    0.684964\n",
       "DEPARTURE_TIME     0.143077\n",
       "Hour_x             0.121525\n",
       "Hour_y             0.103325\n",
       "ARRIVAL_TIME       0.100323\n",
       "Minute_x           0.017736\n",
       "DISTANCE           0.016991\n",
       "SCHEDULED_TIME     0.009460\n",
       "Minute_y           0.000336\n",
       "LATITUDE_y        -0.006811\n",
       "LATITUDE_x        -0.007174\n",
       "LONGITUDE_x       -0.013182\n",
       "LONGITUDE_y       -0.015154\n",
       "MONTH             -0.023621\n",
       "dateKey           -0.023746\n",
       "dtype: float64"
      ]
     },
     "execution_count": 47,
     "metadata": {},
     "output_type": "execute_result"
    }
   ],
   "source": [
    "#columns=['FLIGHT_NUMBER','TAIL_NUMBER','scheduledDeparture_key','DEPARTURE_DELAY','TAXI_OUT','WHEELS_OFF',\n",
    "               #'AIR_TIME','WHEELS_ON','TAXI_IN','scheduledArrival_key','ARRIVAL_DELAY','early','on_time','delayed',\n",
    "              #'new_delay','class'])\n",
    "# Select the target variable\n",
    "y = df['delayed']\n",
    "\n",
    "# Select the feature columns\n",
    "X = df.drop(columns=['delayed'])\n",
    "\n",
    "# Compute the correlation matrix\n",
    "corr = X.corrwith(y)\n",
    "\n",
    "# Sort the correlations in descending order\n",
    "corr_sorted = corr.sort_values(ascending=False)\n",
    "\n",
    "# Print the sorted correlations\n",
    "corr_sorted\n",
    "\n"
   ]
  },
  {
   "cell_type": "code",
   "execution_count": 48,
   "id": "54640a50",
   "metadata": {},
   "outputs": [
    {
     "data": {
      "text/html": [
       "<div>\n",
       "<style scoped>\n",
       "    .dataframe tbody tr th:only-of-type {\n",
       "        vertical-align: middle;\n",
       "    }\n",
       "\n",
       "    .dataframe tbody tr th {\n",
       "        vertical-align: top;\n",
       "    }\n",
       "\n",
       "    .dataframe thead th {\n",
       "        text-align: right;\n",
       "    }\n",
       "</style>\n",
       "<table border=\"1\" class=\"dataframe\">\n",
       "  <thead>\n",
       "    <tr style=\"text-align: right;\">\n",
       "      <th></th>\n",
       "      <th>AIRLINE</th>\n",
       "      <th>ORIGIN_AIRPORT</th>\n",
       "      <th>DESTINATION_AIRPORT</th>\n",
       "      <th>DEPARTURE_TIME</th>\n",
       "      <th>DEPARTURE_DELAY</th>\n",
       "      <th>SCHEDULED_TIME</th>\n",
       "      <th>DISTANCE</th>\n",
       "      <th>ARRIVAL_TIME</th>\n",
       "      <th>dateKey</th>\n",
       "      <th>delayed</th>\n",
       "      <th>...</th>\n",
       "      <th>AIRPORT_x</th>\n",
       "      <th>LATITUDE_x</th>\n",
       "      <th>LONGITUDE_x</th>\n",
       "      <th>AIRPORT_y</th>\n",
       "      <th>LATITUDE_y</th>\n",
       "      <th>LONGITUDE_y</th>\n",
       "      <th>Hour_x</th>\n",
       "      <th>Minute_x</th>\n",
       "      <th>Hour_y</th>\n",
       "      <th>Minute_y</th>\n",
       "    </tr>\n",
       "  </thead>\n",
       "  <tbody>\n",
       "    <tr>\n",
       "      <th>0</th>\n",
       "      <td>AS</td>\n",
       "      <td>ANC</td>\n",
       "      <td>SEA</td>\n",
       "      <td>2354.0</td>\n",
       "      <td>-11.0</td>\n",
       "      <td>205.0</td>\n",
       "      <td>1448</td>\n",
       "      <td>408.0</td>\n",
       "      <td>20150101</td>\n",
       "      <td>0</td>\n",
       "      <td>...</td>\n",
       "      <td>Seattle-Tacoma International Airport</td>\n",
       "      <td>47.44898</td>\n",
       "      <td>-122.30931</td>\n",
       "      <td>Ted Stevens Anchorage International Airport</td>\n",
       "      <td>61.17432</td>\n",
       "      <td>-149.99619</td>\n",
       "      <td>0</td>\n",
       "      <td>5</td>\n",
       "      <td>4</td>\n",
       "      <td>30</td>\n",
       "    </tr>\n",
       "    <tr>\n",
       "      <th>1</th>\n",
       "      <td>AS</td>\n",
       "      <td>ANC</td>\n",
       "      <td>SEA</td>\n",
       "      <td>2353.0</td>\n",
       "      <td>-12.0</td>\n",
       "      <td>205.0</td>\n",
       "      <td>1448</td>\n",
       "      <td>403.0</td>\n",
       "      <td>20150102</td>\n",
       "      <td>0</td>\n",
       "      <td>...</td>\n",
       "      <td>Seattle-Tacoma International Airport</td>\n",
       "      <td>47.44898</td>\n",
       "      <td>-122.30931</td>\n",
       "      <td>Ted Stevens Anchorage International Airport</td>\n",
       "      <td>61.17432</td>\n",
       "      <td>-149.99619</td>\n",
       "      <td>0</td>\n",
       "      <td>5</td>\n",
       "      <td>4</td>\n",
       "      <td>30</td>\n",
       "    </tr>\n",
       "    <tr>\n",
       "      <th>2</th>\n",
       "      <td>AS</td>\n",
       "      <td>ANC</td>\n",
       "      <td>SEA</td>\n",
       "      <td>41.0</td>\n",
       "      <td>36.0</td>\n",
       "      <td>205.0</td>\n",
       "      <td>1448</td>\n",
       "      <td>449.0</td>\n",
       "      <td>20150104</td>\n",
       "      <td>1</td>\n",
       "      <td>...</td>\n",
       "      <td>Seattle-Tacoma International Airport</td>\n",
       "      <td>47.44898</td>\n",
       "      <td>-122.30931</td>\n",
       "      <td>Ted Stevens Anchorage International Airport</td>\n",
       "      <td>61.17432</td>\n",
       "      <td>-149.99619</td>\n",
       "      <td>0</td>\n",
       "      <td>5</td>\n",
       "      <td>4</td>\n",
       "      <td>30</td>\n",
       "    </tr>\n",
       "    <tr>\n",
       "      <th>3</th>\n",
       "      <td>AS</td>\n",
       "      <td>ANC</td>\n",
       "      <td>SEA</td>\n",
       "      <td>2358.0</td>\n",
       "      <td>-7.0</td>\n",
       "      <td>205.0</td>\n",
       "      <td>1448</td>\n",
       "      <td>405.0</td>\n",
       "      <td>20150108</td>\n",
       "      <td>0</td>\n",
       "      <td>...</td>\n",
       "      <td>Seattle-Tacoma International Airport</td>\n",
       "      <td>47.44898</td>\n",
       "      <td>-122.30931</td>\n",
       "      <td>Ted Stevens Anchorage International Airport</td>\n",
       "      <td>61.17432</td>\n",
       "      <td>-149.99619</td>\n",
       "      <td>0</td>\n",
       "      <td>5</td>\n",
       "      <td>4</td>\n",
       "      <td>30</td>\n",
       "    </tr>\n",
       "    <tr>\n",
       "      <th>4</th>\n",
       "      <td>AS</td>\n",
       "      <td>ANC</td>\n",
       "      <td>SEA</td>\n",
       "      <td>2354.0</td>\n",
       "      <td>-11.0</td>\n",
       "      <td>205.0</td>\n",
       "      <td>1448</td>\n",
       "      <td>417.0</td>\n",
       "      <td>20150109</td>\n",
       "      <td>0</td>\n",
       "      <td>...</td>\n",
       "      <td>Seattle-Tacoma International Airport</td>\n",
       "      <td>47.44898</td>\n",
       "      <td>-122.30931</td>\n",
       "      <td>Ted Stevens Anchorage International Airport</td>\n",
       "      <td>61.17432</td>\n",
       "      <td>-149.99619</td>\n",
       "      <td>0</td>\n",
       "      <td>5</td>\n",
       "      <td>4</td>\n",
       "      <td>30</td>\n",
       "    </tr>\n",
       "    <tr>\n",
       "      <th>...</th>\n",
       "      <td>...</td>\n",
       "      <td>...</td>\n",
       "      <td>...</td>\n",
       "      <td>...</td>\n",
       "      <td>...</td>\n",
       "      <td>...</td>\n",
       "      <td>...</td>\n",
       "      <td>...</td>\n",
       "      <td>...</td>\n",
       "      <td>...</td>\n",
       "      <td>...</td>\n",
       "      <td>...</td>\n",
       "      <td>...</td>\n",
       "      <td>...</td>\n",
       "      <td>...</td>\n",
       "      <td>...</td>\n",
       "      <td>...</td>\n",
       "      <td>...</td>\n",
       "      <td>...</td>\n",
       "      <td>...</td>\n",
       "      <td>...</td>\n",
       "    </tr>\n",
       "    <tr>\n",
       "      <th>3919448</th>\n",
       "      <td>UA</td>\n",
       "      <td>ORD</td>\n",
       "      <td>TPA</td>\n",
       "      <td>10.0</td>\n",
       "      <td>-4.0</td>\n",
       "      <td>161.0</td>\n",
       "      <td>1012</td>\n",
       "      <td>346.0</td>\n",
       "      <td>20151129</td>\n",
       "      <td>0</td>\n",
       "      <td>...</td>\n",
       "      <td>Tampa International Airport</td>\n",
       "      <td>27.97547</td>\n",
       "      <td>-82.53325</td>\n",
       "      <td>Chicago O'Hare International Airport</td>\n",
       "      <td>41.97960</td>\n",
       "      <td>-87.90446</td>\n",
       "      <td>0</td>\n",
       "      <td>14</td>\n",
       "      <td>3</td>\n",
       "      <td>55</td>\n",
       "    </tr>\n",
       "    <tr>\n",
       "      <th>3919449</th>\n",
       "      <td>UA</td>\n",
       "      <td>ORD</td>\n",
       "      <td>TPA</td>\n",
       "      <td>10.0</td>\n",
       "      <td>-4.0</td>\n",
       "      <td>161.0</td>\n",
       "      <td>1012</td>\n",
       "      <td>343.0</td>\n",
       "      <td>20151130</td>\n",
       "      <td>0</td>\n",
       "      <td>...</td>\n",
       "      <td>Tampa International Airport</td>\n",
       "      <td>27.97547</td>\n",
       "      <td>-82.53325</td>\n",
       "      <td>Chicago O'Hare International Airport</td>\n",
       "      <td>41.97960</td>\n",
       "      <td>-87.90446</td>\n",
       "      <td>0</td>\n",
       "      <td>14</td>\n",
       "      <td>3</td>\n",
       "      <td>55</td>\n",
       "    </tr>\n",
       "    <tr>\n",
       "      <th>3919450</th>\n",
       "      <td>UA</td>\n",
       "      <td>DEN</td>\n",
       "      <td>SEA</td>\n",
       "      <td>16.0</td>\n",
       "      <td>2.0</td>\n",
       "      <td>186.0</td>\n",
       "      <td>1024</td>\n",
       "      <td>209.0</td>\n",
       "      <td>20151219</td>\n",
       "      <td>0</td>\n",
       "      <td>...</td>\n",
       "      <td>Seattle-Tacoma International Airport</td>\n",
       "      <td>47.44898</td>\n",
       "      <td>-122.30931</td>\n",
       "      <td>Denver International Airport</td>\n",
       "      <td>39.85841</td>\n",
       "      <td>-104.66700</td>\n",
       "      <td>0</td>\n",
       "      <td>14</td>\n",
       "      <td>2</td>\n",
       "      <td>20</td>\n",
       "    </tr>\n",
       "    <tr>\n",
       "      <th>3919451</th>\n",
       "      <td>EV</td>\n",
       "      <td>ORD</td>\n",
       "      <td>SAV</td>\n",
       "      <td>48.0</td>\n",
       "      <td>26.0</td>\n",
       "      <td>130.0</td>\n",
       "      <td>773</td>\n",
       "      <td>349.0</td>\n",
       "      <td>20151228</td>\n",
       "      <td>1</td>\n",
       "      <td>...</td>\n",
       "      <td>Savannah/Hilton Head International Airport</td>\n",
       "      <td>32.12758</td>\n",
       "      <td>-81.20214</td>\n",
       "      <td>Chicago O'Hare International Airport</td>\n",
       "      <td>41.97960</td>\n",
       "      <td>-87.90446</td>\n",
       "      <td>0</td>\n",
       "      <td>22</td>\n",
       "      <td>3</td>\n",
       "      <td>32</td>\n",
       "    </tr>\n",
       "    <tr>\n",
       "      <th>3919452</th>\n",
       "      <td>OO</td>\n",
       "      <td>DEN</td>\n",
       "      <td>FAR</td>\n",
       "      <td>30.0</td>\n",
       "      <td>7.0</td>\n",
       "      <td>124.0</td>\n",
       "      <td>627</td>\n",
       "      <td>310.0</td>\n",
       "      <td>20151218</td>\n",
       "      <td>0</td>\n",
       "      <td>...</td>\n",
       "      <td>Hector International Airport</td>\n",
       "      <td>46.91935</td>\n",
       "      <td>-96.81499</td>\n",
       "      <td>Denver International Airport</td>\n",
       "      <td>39.85841</td>\n",
       "      <td>-104.66700</td>\n",
       "      <td>0</td>\n",
       "      <td>23</td>\n",
       "      <td>3</td>\n",
       "      <td>27</td>\n",
       "    </tr>\n",
       "  </tbody>\n",
       "</table>\n",
       "<p>3911268 rows × 21 columns</p>\n",
       "</div>"
      ],
      "text/plain": [
       "        AIRLINE ORIGIN_AIRPORT DESTINATION_AIRPORT  DEPARTURE_TIME  \\\n",
       "0            AS            ANC                 SEA          2354.0   \n",
       "1            AS            ANC                 SEA          2353.0   \n",
       "2            AS            ANC                 SEA            41.0   \n",
       "3            AS            ANC                 SEA          2358.0   \n",
       "4            AS            ANC                 SEA          2354.0   \n",
       "...         ...            ...                 ...             ...   \n",
       "3919448      UA            ORD                 TPA            10.0   \n",
       "3919449      UA            ORD                 TPA            10.0   \n",
       "3919450      UA            DEN                 SEA            16.0   \n",
       "3919451      EV            ORD                 SAV            48.0   \n",
       "3919452      OO            DEN                 FAR            30.0   \n",
       "\n",
       "         DEPARTURE_DELAY  SCHEDULED_TIME  DISTANCE  ARRIVAL_TIME   dateKey  \\\n",
       "0                  -11.0           205.0      1448         408.0  20150101   \n",
       "1                  -12.0           205.0      1448         403.0  20150102   \n",
       "2                   36.0           205.0      1448         449.0  20150104   \n",
       "3                   -7.0           205.0      1448         405.0  20150108   \n",
       "4                  -11.0           205.0      1448         417.0  20150109   \n",
       "...                  ...             ...       ...           ...       ...   \n",
       "3919448             -4.0           161.0      1012         346.0  20151129   \n",
       "3919449             -4.0           161.0      1012         343.0  20151130   \n",
       "3919450              2.0           186.0      1024         209.0  20151219   \n",
       "3919451             26.0           130.0       773         349.0  20151228   \n",
       "3919452              7.0           124.0       627         310.0  20151218   \n",
       "\n",
       "         delayed  ...                                   AIRPORT_x LATITUDE_x  \\\n",
       "0              0  ...        Seattle-Tacoma International Airport   47.44898   \n",
       "1              0  ...        Seattle-Tacoma International Airport   47.44898   \n",
       "2              1  ...        Seattle-Tacoma International Airport   47.44898   \n",
       "3              0  ...        Seattle-Tacoma International Airport   47.44898   \n",
       "4              0  ...        Seattle-Tacoma International Airport   47.44898   \n",
       "...          ...  ...                                         ...        ...   \n",
       "3919448        0  ...                 Tampa International Airport   27.97547   \n",
       "3919449        0  ...                 Tampa International Airport   27.97547   \n",
       "3919450        0  ...        Seattle-Tacoma International Airport   47.44898   \n",
       "3919451        1  ...  Savannah/Hilton Head International Airport   32.12758   \n",
       "3919452        0  ...                Hector International Airport   46.91935   \n",
       "\n",
       "         LONGITUDE_x                                    AIRPORT_y LATITUDE_y  \\\n",
       "0         -122.30931  Ted Stevens Anchorage International Airport   61.17432   \n",
       "1         -122.30931  Ted Stevens Anchorage International Airport   61.17432   \n",
       "2         -122.30931  Ted Stevens Anchorage International Airport   61.17432   \n",
       "3         -122.30931  Ted Stevens Anchorage International Airport   61.17432   \n",
       "4         -122.30931  Ted Stevens Anchorage International Airport   61.17432   \n",
       "...              ...                                          ...        ...   \n",
       "3919448    -82.53325         Chicago O'Hare International Airport   41.97960   \n",
       "3919449    -82.53325         Chicago O'Hare International Airport   41.97960   \n",
       "3919450   -122.30931                 Denver International Airport   39.85841   \n",
       "3919451    -81.20214         Chicago O'Hare International Airport   41.97960   \n",
       "3919452    -96.81499                 Denver International Airport   39.85841   \n",
       "\n",
       "         LONGITUDE_y  Hour_x  Minute_x  Hour_y  Minute_y  \n",
       "0         -149.99619       0         5       4        30  \n",
       "1         -149.99619       0         5       4        30  \n",
       "2         -149.99619       0         5       4        30  \n",
       "3         -149.99619       0         5       4        30  \n",
       "4         -149.99619       0         5       4        30  \n",
       "...              ...     ...       ...     ...       ...  \n",
       "3919448    -87.90446       0        14       3        55  \n",
       "3919449    -87.90446       0        14       3        55  \n",
       "3919450   -104.66700       0        14       2        20  \n",
       "3919451    -87.90446       0        22       3        32  \n",
       "3919452   -104.66700       0        23       3        27  \n",
       "\n",
       "[3911268 rows x 21 columns]"
      ]
     },
     "execution_count": 48,
     "metadata": {},
     "output_type": "execute_result"
    }
   ],
   "source": [
    "df"
   ]
  },
  {
   "cell_type": "code",
   "execution_count": 49,
   "id": "163dae4f",
   "metadata": {},
   "outputs": [],
   "source": [
    "\n",
    "# Multiply the values in the \"hour\" column by 60]\n",
    "df[\"hour_minutes_dep\"] = df[\"Hour_x\"] * 60\n",
    "\n",
    "# Add the resulting values to the values in the \"minute\" column\n",
    "df[\"total_minutes_dep\"] = df[\"hour_minutes_dep\"] + df[\"Minute_x\"]\n",
    "\n",
    "# Drop the original \"hour\" and \"minute\" columns\n",
    "df = df.drop(columns=[\"Hour_x\", \"Minute_x\"])"
   ]
  },
  {
   "cell_type": "code",
   "execution_count": 50,
   "id": "c002f9f4",
   "metadata": {},
   "outputs": [],
   "source": [
    "\n",
    "# Multiply the values in the \"hour\" column by 60]\n",
    "df[\"hour_minutes_arr\"] = df[\"Hour_y\"] * 60\n",
    "\n",
    "# Add the resulting values to the values in the \"minute\" column\n",
    "df[\"total_minutes_arr\"] = df[\"hour_minutes_arr\"] + df[\"Minute_y\"]\n",
    "\n",
    "# Drop the original \"hour\" and \"minute\" columns\n",
    "df = df.drop(columns=[\"Hour_y\", \"Minute_y\"])"
   ]
  },
  {
   "cell_type": "code",
   "execution_count": 217,
   "id": "9c8aa88c",
   "metadata": {},
   "outputs": [
    {
     "data": {
      "text/plain": [
       "count    3.911268e+06\n",
       "mean     8.978087e+02\n",
       "std      3.034065e+02\n",
       "min      1.000000e+00\n",
       "25%      6.600000e+02\n",
       "50%      9.030000e+02\n",
       "75%      1.145000e+03\n",
       "max      1.439000e+03\n",
       "Name: total_minutes_arr, dtype: float64"
      ]
     },
     "execution_count": 217,
     "metadata": {},
     "output_type": "execute_result"
    }
   ],
   "source": [
    "df[\"total_minutes_arr\"].describe()"
   ]
  },
  {
   "cell_type": "markdown",
   "id": "85c44edb",
   "metadata": {},
   "source": [
    "* Use the OneHotEncoder class from the sklearn.preprocessing module to perform one-hot encoding on the categorical column."
   ]
  },
  {
   "cell_type": "code",
   "execution_count": 54,
   "id": "b07ff453",
   "metadata": {},
   "outputs": [
    {
     "name": "stdout",
     "output_type": "stream",
     "text": [
      "CPU times: total: 391 ms\n",
      "Wall time: 425 ms\n"
     ]
    },
    {
     "data": {
      "text/html": [
       "<div>\n",
       "<style scoped>\n",
       "    .dataframe tbody tr th:only-of-type {\n",
       "        vertical-align: middle;\n",
       "    }\n",
       "\n",
       "    .dataframe tbody tr th {\n",
       "        vertical-align: top;\n",
       "    }\n",
       "\n",
       "    .dataframe thead th {\n",
       "        text-align: right;\n",
       "    }\n",
       "</style>\n",
       "<table border=\"1\" class=\"dataframe\">\n",
       "  <thead>\n",
       "    <tr style=\"text-align: right;\">\n",
       "      <th></th>\n",
       "      <th>AA</th>\n",
       "      <th>AS</th>\n",
       "      <th>B6</th>\n",
       "      <th>DL</th>\n",
       "      <th>EV</th>\n",
       "      <th>F9</th>\n",
       "      <th>HA</th>\n",
       "      <th>MQ</th>\n",
       "      <th>NK</th>\n",
       "      <th>OO</th>\n",
       "      <th>UA</th>\n",
       "      <th>US</th>\n",
       "      <th>VX</th>\n",
       "      <th>WN</th>\n",
       "    </tr>\n",
       "  </thead>\n",
       "  <tbody>\n",
       "    <tr>\n",
       "      <th>0</th>\n",
       "      <td>0</td>\n",
       "      <td>1</td>\n",
       "      <td>0</td>\n",
       "      <td>0</td>\n",
       "      <td>0</td>\n",
       "      <td>0</td>\n",
       "      <td>0</td>\n",
       "      <td>0</td>\n",
       "      <td>0</td>\n",
       "      <td>0</td>\n",
       "      <td>0</td>\n",
       "      <td>0</td>\n",
       "      <td>0</td>\n",
       "      <td>0</td>\n",
       "    </tr>\n",
       "    <tr>\n",
       "      <th>1</th>\n",
       "      <td>0</td>\n",
       "      <td>1</td>\n",
       "      <td>0</td>\n",
       "      <td>0</td>\n",
       "      <td>0</td>\n",
       "      <td>0</td>\n",
       "      <td>0</td>\n",
       "      <td>0</td>\n",
       "      <td>0</td>\n",
       "      <td>0</td>\n",
       "      <td>0</td>\n",
       "      <td>0</td>\n",
       "      <td>0</td>\n",
       "      <td>0</td>\n",
       "    </tr>\n",
       "    <tr>\n",
       "      <th>2</th>\n",
       "      <td>0</td>\n",
       "      <td>1</td>\n",
       "      <td>0</td>\n",
       "      <td>0</td>\n",
       "      <td>0</td>\n",
       "      <td>0</td>\n",
       "      <td>0</td>\n",
       "      <td>0</td>\n",
       "      <td>0</td>\n",
       "      <td>0</td>\n",
       "      <td>0</td>\n",
       "      <td>0</td>\n",
       "      <td>0</td>\n",
       "      <td>0</td>\n",
       "    </tr>\n",
       "    <tr>\n",
       "      <th>3</th>\n",
       "      <td>0</td>\n",
       "      <td>1</td>\n",
       "      <td>0</td>\n",
       "      <td>0</td>\n",
       "      <td>0</td>\n",
       "      <td>0</td>\n",
       "      <td>0</td>\n",
       "      <td>0</td>\n",
       "      <td>0</td>\n",
       "      <td>0</td>\n",
       "      <td>0</td>\n",
       "      <td>0</td>\n",
       "      <td>0</td>\n",
       "      <td>0</td>\n",
       "    </tr>\n",
       "    <tr>\n",
       "      <th>4</th>\n",
       "      <td>0</td>\n",
       "      <td>1</td>\n",
       "      <td>0</td>\n",
       "      <td>0</td>\n",
       "      <td>0</td>\n",
       "      <td>0</td>\n",
       "      <td>0</td>\n",
       "      <td>0</td>\n",
       "      <td>0</td>\n",
       "      <td>0</td>\n",
       "      <td>0</td>\n",
       "      <td>0</td>\n",
       "      <td>0</td>\n",
       "      <td>0</td>\n",
       "    </tr>\n",
       "    <tr>\n",
       "      <th>...</th>\n",
       "      <td>...</td>\n",
       "      <td>...</td>\n",
       "      <td>...</td>\n",
       "      <td>...</td>\n",
       "      <td>...</td>\n",
       "      <td>...</td>\n",
       "      <td>...</td>\n",
       "      <td>...</td>\n",
       "      <td>...</td>\n",
       "      <td>...</td>\n",
       "      <td>...</td>\n",
       "      <td>...</td>\n",
       "      <td>...</td>\n",
       "      <td>...</td>\n",
       "    </tr>\n",
       "    <tr>\n",
       "      <th>3919448</th>\n",
       "      <td>0</td>\n",
       "      <td>0</td>\n",
       "      <td>0</td>\n",
       "      <td>0</td>\n",
       "      <td>0</td>\n",
       "      <td>0</td>\n",
       "      <td>0</td>\n",
       "      <td>0</td>\n",
       "      <td>0</td>\n",
       "      <td>0</td>\n",
       "      <td>1</td>\n",
       "      <td>0</td>\n",
       "      <td>0</td>\n",
       "      <td>0</td>\n",
       "    </tr>\n",
       "    <tr>\n",
       "      <th>3919449</th>\n",
       "      <td>0</td>\n",
       "      <td>0</td>\n",
       "      <td>0</td>\n",
       "      <td>0</td>\n",
       "      <td>0</td>\n",
       "      <td>0</td>\n",
       "      <td>0</td>\n",
       "      <td>0</td>\n",
       "      <td>0</td>\n",
       "      <td>0</td>\n",
       "      <td>1</td>\n",
       "      <td>0</td>\n",
       "      <td>0</td>\n",
       "      <td>0</td>\n",
       "    </tr>\n",
       "    <tr>\n",
       "      <th>3919450</th>\n",
       "      <td>0</td>\n",
       "      <td>0</td>\n",
       "      <td>0</td>\n",
       "      <td>0</td>\n",
       "      <td>0</td>\n",
       "      <td>0</td>\n",
       "      <td>0</td>\n",
       "      <td>0</td>\n",
       "      <td>0</td>\n",
       "      <td>0</td>\n",
       "      <td>1</td>\n",
       "      <td>0</td>\n",
       "      <td>0</td>\n",
       "      <td>0</td>\n",
       "    </tr>\n",
       "    <tr>\n",
       "      <th>3919451</th>\n",
       "      <td>0</td>\n",
       "      <td>0</td>\n",
       "      <td>0</td>\n",
       "      <td>0</td>\n",
       "      <td>1</td>\n",
       "      <td>0</td>\n",
       "      <td>0</td>\n",
       "      <td>0</td>\n",
       "      <td>0</td>\n",
       "      <td>0</td>\n",
       "      <td>0</td>\n",
       "      <td>0</td>\n",
       "      <td>0</td>\n",
       "      <td>0</td>\n",
       "    </tr>\n",
       "    <tr>\n",
       "      <th>3919452</th>\n",
       "      <td>0</td>\n",
       "      <td>0</td>\n",
       "      <td>0</td>\n",
       "      <td>0</td>\n",
       "      <td>0</td>\n",
       "      <td>0</td>\n",
       "      <td>0</td>\n",
       "      <td>0</td>\n",
       "      <td>0</td>\n",
       "      <td>1</td>\n",
       "      <td>0</td>\n",
       "      <td>0</td>\n",
       "      <td>0</td>\n",
       "      <td>0</td>\n",
       "    </tr>\n",
       "  </tbody>\n",
       "</table>\n",
       "<p>3911268 rows × 14 columns</p>\n",
       "</div>"
      ],
      "text/plain": [
       "         AA  AS  B6  DL  EV  F9  HA  MQ  NK  OO  UA  US  VX  WN\n",
       "0         0   1   0   0   0   0   0   0   0   0   0   0   0   0\n",
       "1         0   1   0   0   0   0   0   0   0   0   0   0   0   0\n",
       "2         0   1   0   0   0   0   0   0   0   0   0   0   0   0\n",
       "3         0   1   0   0   0   0   0   0   0   0   0   0   0   0\n",
       "4         0   1   0   0   0   0   0   0   0   0   0   0   0   0\n",
       "...      ..  ..  ..  ..  ..  ..  ..  ..  ..  ..  ..  ..  ..  ..\n",
       "3919448   0   0   0   0   0   0   0   0   0   0   1   0   0   0\n",
       "3919449   0   0   0   0   0   0   0   0   0   0   1   0   0   0\n",
       "3919450   0   0   0   0   0   0   0   0   0   0   1   0   0   0\n",
       "3919451   0   0   0   0   1   0   0   0   0   0   0   0   0   0\n",
       "3919452   0   0   0   0   0   0   0   0   0   1   0   0   0   0\n",
       "\n",
       "[3911268 rows x 14 columns]"
      ]
     },
     "execution_count": 54,
     "metadata": {},
     "output_type": "execute_result"
    }
   ],
   "source": [
    "%%time\n",
    "dummies = pd.get_dummies(df['AIRLINE'])\n",
    "dummies"
   ]
  },
  {
   "cell_type": "code",
   "execution_count": 55,
   "id": "cdf8a0e4",
   "metadata": {},
   "outputs": [],
   "source": [
    "df=pd.concat([df, dummies], axis=1)\n",
    "df = df.drop(['AIRLINE', 'ORIGIN_AIRPORT','DESTINATION_AIRPORT'], axis=1)"
   ]
  },
  {
   "cell_type": "code",
   "execution_count": 56,
   "id": "8d59e59d",
   "metadata": {},
   "outputs": [
    {
     "data": {
      "text/plain": [
       "Index(['DEPARTURE_TIME', 'DEPARTURE_DELAY', 'SCHEDULED_TIME', 'DISTANCE',\n",
       "       'ARRIVAL_TIME', 'dateKey', 'delayed', 'MONTH', 'AIRPORT_x',\n",
       "       'LATITUDE_x', 'LONGITUDE_x', 'AIRPORT_y', 'LATITUDE_y', 'LONGITUDE_y',\n",
       "       'total_minutes_dep', 'total_minutes_arr', 'AA', 'AS', 'B6', 'DL', 'EV',\n",
       "       'F9', 'HA', 'MQ', 'NK', 'OO', 'UA', 'US', 'VX', 'WN'],\n",
       "      dtype='object')"
      ]
     },
     "execution_count": 56,
     "metadata": {},
     "output_type": "execute_result"
    }
   ],
   "source": [
    "df.columns"
   ]
  },
  {
   "cell_type": "code",
   "execution_count": 57,
   "id": "b94f0b44",
   "metadata": {},
   "outputs": [
    {
     "data": {
      "text/plain": [
       "DEPARTURE_DELAY      0.684964\n",
       "DEPARTURE_TIME       0.143077\n",
       "total_minutes_dep    0.121991\n",
       "total_minutes_arr    0.103264\n",
       "ARRIVAL_TIME         0.100323\n",
       "DL                  -0.058200\n",
       "WN                   0.040239\n",
       "NK                   0.031276\n",
       "dateKey             -0.023746\n",
       "MONTH               -0.023621\n",
       "F9                   0.021468\n",
       "DISTANCE             0.016991\n",
       "LONGITUDE_y         -0.015154\n",
       "LONGITUDE_x         -0.013182\n",
       "B6                   0.010427\n",
       "AA                  -0.009526\n",
       "SCHEDULED_TIME       0.009460\n",
       "OO                  -0.007326\n",
       "LATITUDE_x          -0.007174\n",
       "LATITUDE_y          -0.006811\n",
       "dtype: float64"
      ]
     },
     "execution_count": 57,
     "metadata": {},
     "output_type": "execute_result"
    }
   ],
   "source": [
    "#columns=['FLIGHT_NUMBER','TAIL_NUMBER','scheduledDeparture_key','DEPARTURE_DELAY','TAXI_OUT','WHEELS_OFF',\n",
    "               #'AIR_TIME','WHEELS_ON','TAXI_IN','scheduledArrival_key','ARRIVAL_DELAY','early','on_time','delayed',\n",
    "              #'new_delay','class'])\n",
    "# Select the target variable\n",
    "y = df['delayed']\n",
    "\n",
    "# Select the feature columns\n",
    "X = df.drop(columns=['delayed'])\n",
    "\n",
    "# Compute the correlation matrix\n",
    "corr = X.corrwith(y)\n",
    "\n",
    "# Sort the correlations in descending order\n",
    "corr_sorted = corr.sort_values(ascending=False,key=abs)\n",
    "\n",
    "# Print the sorted correlations\n",
    "corr_sorted.head(20)\n"
   ]
  },
  {
   "cell_type": "markdown",
   "id": "25cf7137",
   "metadata": {},
   "source": [
    "* Info and analysis of data"
   ]
  },
  {
   "cell_type": "code",
   "execution_count": 58,
   "id": "010afdc5",
   "metadata": {
    "scrolled": true
   },
   "outputs": [
    {
     "data": {
      "text/plain": [
       "False    30\n",
       "dtype: int64"
      ]
     },
     "execution_count": 58,
     "metadata": {},
     "output_type": "execute_result"
    }
   ],
   "source": [
    "df.isnull().any().value_counts()"
   ]
  },
  {
   "cell_type": "code",
   "execution_count": 59,
   "id": "897cb2c8",
   "metadata": {},
   "outputs": [
    {
     "data": {
      "text/plain": [
       "Index(['DEPARTURE_TIME', 'DEPARTURE_DELAY', 'SCHEDULED_TIME', 'DISTANCE',\n",
       "       'ARRIVAL_TIME', 'dateKey', 'delayed', 'MONTH', 'AIRPORT_x',\n",
       "       'LATITUDE_x', 'LONGITUDE_x', 'AIRPORT_y', 'LATITUDE_y', 'LONGITUDE_y',\n",
       "       'total_minutes_dep', 'total_minutes_arr', 'AA', 'AS', 'B6', 'DL', 'EV',\n",
       "       'F9', 'HA', 'MQ', 'NK', 'OO', 'UA', 'US', 'VX', 'WN'],\n",
       "      dtype='object')"
      ]
     },
     "execution_count": 59,
     "metadata": {},
     "output_type": "execute_result"
    }
   ],
   "source": [
    "df.columns"
   ]
  },
  {
   "cell_type": "code",
   "execution_count": 60,
   "id": "5adfe3c0",
   "metadata": {},
   "outputs": [],
   "source": [
    "df=df.drop(['MONTH','ARRIVAL_TIME','AIRPORT_y','AIRPORT_x'],axis=1)"
   ]
  },
  {
   "cell_type": "code",
   "execution_count": 61,
   "id": "474ed472",
   "metadata": {},
   "outputs": [
    {
     "data": {
      "text/plain": [
       "Index(['DEPARTURE_TIME', 'DEPARTURE_DELAY', 'SCHEDULED_TIME', 'DISTANCE',\n",
       "       'dateKey', 'delayed', 'LATITUDE_x', 'LONGITUDE_x', 'LATITUDE_y',\n",
       "       'LONGITUDE_y', 'total_minutes_dep', 'total_minutes_arr', 'AA', 'AS',\n",
       "       'B6', 'DL', 'EV', 'F9', 'HA', 'MQ', 'NK', 'OO', 'UA', 'US', 'VX', 'WN'],\n",
       "      dtype='object')"
      ]
     },
     "execution_count": 61,
     "metadata": {},
     "output_type": "execute_result"
    }
   ],
   "source": [
    "df.columns"
   ]
  },
  {
   "cell_type": "markdown",
   "id": "2107c705",
   "metadata": {},
   "source": [
    "### Decision Trees"
   ]
  },
  {
   "cell_type": "markdown",
   "id": "42f32ac7",
   "metadata": {},
   "source": [
    "* Assign to x all the features that we will use for prediction and assign to y the class feature that we want to predict"
   ]
  },
  {
   "cell_type": "code",
   "execution_count": 155,
   "id": "c28112c8",
   "metadata": {},
   "outputs": [],
   "source": [
    "x= df.drop(['delayed','DEPARTURE_TIME', 'DEPARTURE_DELAY','LATITUDE_x','LATITUDE_y','AA','OO','SCHEDULED_TIME','B6','AS', 'EV' ,'HA',\n",
    "       'MQ','UA', 'US', 'VX'],axis=1)  \n",
    "y= df['delayed']"
   ]
  },
  {
   "cell_type": "code",
   "execution_count": 156,
   "id": "c29e13ca",
   "metadata": {},
   "outputs": [
    {
     "data": {
      "text/plain": [
       "Index(['DISTANCE', 'dateKey', 'LONGITUDE_x', 'LONGITUDE_y',\n",
       "       'total_minutes_dep', 'total_minutes_arr', 'DL', 'F9', 'NK', 'WN'],\n",
       "      dtype='object')"
      ]
     },
     "execution_count": 156,
     "metadata": {},
     "output_type": "execute_result"
    }
   ],
   "source": [
    "x.columns"
   ]
  },
  {
   "cell_type": "markdown",
   "id": "10c65b4f",
   "metadata": {},
   "source": [
    "* Split to trainning and testing set with a 80:20 ratio"
   ]
  },
  {
   "cell_type": "code",
   "execution_count": 157,
   "id": "0b0eae40",
   "metadata": {},
   "outputs": [],
   "source": [
    "x_train, x_test, y_train, y_test= train_test_split(x, y, test_size= 0.25,random_state=0)  "
   ]
  },
  {
   "cell_type": "code",
   "execution_count": 158,
   "id": "ec4f1e52",
   "metadata": {},
   "outputs": [],
   "source": [
    "# define the SMOTE model\n",
    "smote = SMOTE()\n",
    "# fit and transform the training data\n",
    "X_train_resampled_tree, y_train_resampled_tree = smote.fit_resample(x_train, y_train)"
   ]
  },
  {
   "cell_type": "code",
   "execution_count": 162,
   "id": "ee9348a6",
   "metadata": {},
   "outputs": [
    {
     "data": {
      "text/plain": [
       "0    2489534\n",
       "1    2489534\n",
       "Name: delayed, dtype: int64"
      ]
     },
     "execution_count": 162,
     "metadata": {},
     "output_type": "execute_result"
    }
   ],
   "source": [
    "y_train_resampled_tree.value_counts()"
   ]
  },
  {
   "cell_type": "markdown",
   "id": "54742f6b",
   "metadata": {},
   "source": [
    "* Create a DecisionTreeClassifier based on the entropy"
   ]
  },
  {
   "cell_type": "code",
   "execution_count": 159,
   "id": "f9801d96",
   "metadata": {},
   "outputs": [
    {
     "name": "stdout",
     "output_type": "stream",
     "text": [
      "CPU times: total: 2min 39s\n",
      "Wall time: 2min 47s\n"
     ]
    }
   ],
   "source": [
    "%%time\n",
    "#Entropy\n",
    "classifier= DecisionTreeClassifier(criterion='entropy', random_state=0)  \n",
    "model=classifier.fit(X_train_resampled_tree, y_train_resampled_tree)  "
   ]
  },
  {
   "cell_type": "markdown",
   "id": "bcae0829",
   "metadata": {},
   "source": [
    "* Predicting the test set result based on the Entropy"
   ]
  },
  {
   "cell_type": "code",
   "execution_count": 160,
   "id": "6449a765",
   "metadata": {},
   "outputs": [],
   "source": [
    "#Predicting the test set result (Entropy)\n",
    "y_pred= classifier.predict(x_test)"
   ]
  },
  {
   "cell_type": "code",
   "execution_count": 161,
   "id": "f97f4245",
   "metadata": {},
   "outputs": [
    {
     "name": "stdout",
     "output_type": "stream",
     "text": [
      "71\n"
     ]
    }
   ],
   "source": [
    "print(classifier.tree_.max_depth)"
   ]
  },
  {
   "cell_type": "markdown",
   "id": "e05ae9f5",
   "metadata": {},
   "source": [
    " Create a DecisionTreeClassifier based on the gini index"
   ]
  },
  {
   "cell_type": "code",
   "execution_count": 100,
   "id": "aa781289",
   "metadata": {},
   "outputs": [
    {
     "name": "stdout",
     "output_type": "stream",
     "text": [
      "CPU times: total: 38.2 s\n",
      "Wall time: 40.4 s\n"
     ]
    }
   ],
   "source": [
    "%%time\n",
    "#Gini\n",
    "classifier1= DecisionTreeClassifier(criterion='gini', random_state=0)  \n",
    "model1=classifier1.fit(x_train, y_train) "
   ]
  },
  {
   "cell_type": "markdown",
   "id": "24bc98e8",
   "metadata": {},
   "source": [
    "* Predicting the test set result based on the gini index"
   ]
  },
  {
   "cell_type": "code",
   "execution_count": 101,
   "id": "d862c180",
   "metadata": {},
   "outputs": [],
   "source": [
    "#Predicting the test set result (Gini)\n",
    "y_pred1= classifier1.predict(x_test)"
   ]
  },
  {
   "cell_type": "code",
   "execution_count": 103,
   "id": "2bda89eb",
   "metadata": {},
   "outputs": [
    {
     "name": "stdout",
     "output_type": "stream",
     "text": [
      "59\n"
     ]
    }
   ],
   "source": [
    "print(classifier1.tree_.max_depth)"
   ]
  },
  {
   "cell_type": "markdown",
   "id": "4dfd8a57",
   "metadata": {},
   "source": [
    "### Print the classification report and interpret the results"
   ]
  },
  {
   "cell_type": "code",
   "execution_count": 163,
   "id": "ccfbb2a5",
   "metadata": {},
   "outputs": [
    {
     "name": "stdout",
     "output_type": "stream",
     "text": [
      "              precision    recall  f1-score   support\n",
      "\n",
      "           0       0.87      0.82      0.85    829197\n",
      "           1       0.25      0.33      0.29    148620\n",
      "\n",
      "    accuracy                           0.75    977817\n",
      "   macro avg       0.56      0.58      0.57    977817\n",
      "weighted avg       0.78      0.75      0.76    977817\n",
      "\n",
      "F1 score: 0.745739744757966\n"
     ]
    }
   ],
   "source": [
    "# Print the classification report (Entropy)\n",
    "report = classification_report(y_test, y_pred)\n",
    "print(report)\n",
    "\n",
    "# Print the F1 score\n",
    "f1 = f1_score(y_test, y_pred, average=\"micro\")\n",
    "print(\"F1 score:\", f1)"
   ]
  },
  {
   "cell_type": "code",
   "execution_count": 104,
   "id": "8d55d43f",
   "metadata": {},
   "outputs": [
    {
     "name": "stdout",
     "output_type": "stream",
     "text": [
      "              precision    recall  f1-score   support\n",
      "\n",
      "           0       0.86      0.89      0.88    829197\n",
      "           1       0.26      0.22      0.24    148620\n",
      "\n",
      "    accuracy                           0.79    977817\n",
      "   macro avg       0.56      0.56      0.56    977817\n",
      "weighted avg       0.77      0.79      0.78    977817\n",
      "\n",
      "F1 score: 0.7871984226087294\n"
     ]
    }
   ],
   "source": [
    "# Print the classification report(Gini)\n",
    "report = classification_report(y_test, y_pred1)\n",
    "print(report)\n",
    "\n",
    "# Print the F1 score\n",
    "f1 = f1_score(y_test, y_pred1, average=\"micro\")\n",
    "print(\"F1 score:\", f1)"
   ]
  },
  {
   "cell_type": "markdown",
   "id": "e870d938",
   "metadata": {},
   "source": [
    "### XGBOOST"
   ]
  },
  {
   "cell_type": "code",
   "execution_count": 123,
   "id": "96e3444f",
   "metadata": {},
   "outputs": [],
   "source": [
    "# Remove duplicate columns\n",
    "ex_df = df.loc[:, ~df.columns.duplicated()]"
   ]
  },
  {
   "cell_type": "code",
   "execution_count": 124,
   "id": "80bb587d",
   "metadata": {},
   "outputs": [],
   "source": [
    "ex_df = ex_df.sample(frac=0.7, random_state=0)"
   ]
  },
  {
   "cell_type": "code",
   "execution_count": 125,
   "id": "6812001c",
   "metadata": {},
   "outputs": [],
   "source": [
    "x= ex_df.drop(['delayed','DEPARTURE_TIME', 'DEPARTURE_DELAY','LATITUDE_x','LATITUDE_y','AA','OO','SCHEDULED_TIME','B6','AS', 'EV' ,'HA',\n",
    "       'MQ','UA', 'US', 'VX'],axis=1)  \n",
    "y= ex_df['delayed']"
   ]
  },
  {
   "cell_type": "code",
   "execution_count": 126,
   "id": "123f3c20",
   "metadata": {},
   "outputs": [
    {
     "data": {
      "text/html": [
       "<div>\n",
       "<style scoped>\n",
       "    .dataframe tbody tr th:only-of-type {\n",
       "        vertical-align: middle;\n",
       "    }\n",
       "\n",
       "    .dataframe tbody tr th {\n",
       "        vertical-align: top;\n",
       "    }\n",
       "\n",
       "    .dataframe thead th {\n",
       "        text-align: right;\n",
       "    }\n",
       "</style>\n",
       "<table border=\"1\" class=\"dataframe\">\n",
       "  <thead>\n",
       "    <tr style=\"text-align: right;\">\n",
       "      <th></th>\n",
       "      <th>DISTANCE</th>\n",
       "      <th>dateKey</th>\n",
       "      <th>LONGITUDE_x</th>\n",
       "      <th>LONGITUDE_y</th>\n",
       "      <th>total_minutes_dep</th>\n",
       "      <th>total_minutes_arr</th>\n",
       "      <th>DL</th>\n",
       "      <th>F9</th>\n",
       "      <th>NK</th>\n",
       "      <th>WN</th>\n",
       "    </tr>\n",
       "  </thead>\n",
       "  <tbody>\n",
       "    <tr>\n",
       "      <th>551728</th>\n",
       "      <td>134</td>\n",
       "      <td>20150525</td>\n",
       "      <td>-97.82780</td>\n",
       "      <td>-97.03720</td>\n",
       "      <td>530</td>\n",
       "      <td>584</td>\n",
       "      <td>0</td>\n",
       "      <td>0</td>\n",
       "      <td>0</td>\n",
       "      <td>0</td>\n",
       "    </tr>\n",
       "    <tr>\n",
       "      <th>2506701</th>\n",
       "      <td>302</td>\n",
       "      <td>20150501</td>\n",
       "      <td>-95.27889</td>\n",
       "      <td>-90.25803</td>\n",
       "      <td>1290</td>\n",
       "      <td>1360</td>\n",
       "      <td>0</td>\n",
       "      <td>0</td>\n",
       "      <td>0</td>\n",
       "      <td>1</td>\n",
       "    </tr>\n",
       "    <tr>\n",
       "      <th>2835629</th>\n",
       "      <td>370</td>\n",
       "      <td>20150817</td>\n",
       "      <td>-112.00806</td>\n",
       "      <td>-118.40807</td>\n",
       "      <td>980</td>\n",
       "      <td>1060</td>\n",
       "      <td>0</td>\n",
       "      <td>0</td>\n",
       "      <td>0</td>\n",
       "      <td>1</td>\n",
       "    </tr>\n",
       "    <tr>\n",
       "      <th>360939</th>\n",
       "      <td>927</td>\n",
       "      <td>20150620</td>\n",
       "      <td>-82.53325</td>\n",
       "      <td>-81.84940</td>\n",
       "      <td>370</td>\n",
       "      <td>515</td>\n",
       "      <td>0</td>\n",
       "      <td>1</td>\n",
       "      <td>0</td>\n",
       "      <td>0</td>\n",
       "    </tr>\n",
       "    <tr>\n",
       "      <th>3307267</th>\n",
       "      <td>399</td>\n",
       "      <td>20150924</td>\n",
       "      <td>-77.03772</td>\n",
       "      <td>-71.00518</td>\n",
       "      <td>1200</td>\n",
       "      <td>1294</td>\n",
       "      <td>0</td>\n",
       "      <td>0</td>\n",
       "      <td>0</td>\n",
       "      <td>0</td>\n",
       "    </tr>\n",
       "    <tr>\n",
       "      <th>...</th>\n",
       "      <td>...</td>\n",
       "      <td>...</td>\n",
       "      <td>...</td>\n",
       "      <td>...</td>\n",
       "      <td>...</td>\n",
       "      <td>...</td>\n",
       "      <td>...</td>\n",
       "      <td>...</td>\n",
       "      <td>...</td>\n",
       "      <td>...</td>\n",
       "    </tr>\n",
       "    <tr>\n",
       "      <th>2794436</th>\n",
       "      <td>337</td>\n",
       "      <td>20150222</td>\n",
       "      <td>-118.40807</td>\n",
       "      <td>-122.22072</td>\n",
       "      <td>1040</td>\n",
       "      <td>1115</td>\n",
       "      <td>0</td>\n",
       "      <td>0</td>\n",
       "      <td>0</td>\n",
       "      <td>1</td>\n",
       "    </tr>\n",
       "    <tr>\n",
       "      <th>3309420</th>\n",
       "      <td>563</td>\n",
       "      <td>20150427</td>\n",
       "      <td>-106.37781</td>\n",
       "      <td>-104.66700</td>\n",
       "      <td>1180</td>\n",
       "      <td>1288</td>\n",
       "      <td>0</td>\n",
       "      <td>0</td>\n",
       "      <td>0</td>\n",
       "      <td>0</td>\n",
       "    </tr>\n",
       "    <tr>\n",
       "      <th>1728525</th>\n",
       "      <td>2139</td>\n",
       "      <td>20150905</td>\n",
       "      <td>-84.42694</td>\n",
       "      <td>-122.37484</td>\n",
       "      <td>1375</td>\n",
       "      <td>389</td>\n",
       "      <td>1</td>\n",
       "      <td>0</td>\n",
       "      <td>0</td>\n",
       "      <td>0</td>\n",
       "    </tr>\n",
       "    <tr>\n",
       "      <th>3070832</th>\n",
       "      <td>226</td>\n",
       "      <td>20150221</td>\n",
       "      <td>-84.42694</td>\n",
       "      <td>-80.94313</td>\n",
       "      <td>958</td>\n",
       "      <td>1032</td>\n",
       "      <td>0</td>\n",
       "      <td>0</td>\n",
       "      <td>0</td>\n",
       "      <td>0</td>\n",
       "    </tr>\n",
       "    <tr>\n",
       "      <th>2185253</th>\n",
       "      <td>372</td>\n",
       "      <td>20150811</td>\n",
       "      <td>-117.86822</td>\n",
       "      <td>-122.37484</td>\n",
       "      <td>1199</td>\n",
       "      <td>1292</td>\n",
       "      <td>0</td>\n",
       "      <td>0</td>\n",
       "      <td>0</td>\n",
       "      <td>0</td>\n",
       "    </tr>\n",
       "  </tbody>\n",
       "</table>\n",
       "<p>2737888 rows × 10 columns</p>\n",
       "</div>"
      ],
      "text/plain": [
       "         DISTANCE   dateKey  LONGITUDE_x  LONGITUDE_y  total_minutes_dep  \\\n",
       "551728        134  20150525    -97.82780    -97.03720                530   \n",
       "2506701       302  20150501    -95.27889    -90.25803               1290   \n",
       "2835629       370  20150817   -112.00806   -118.40807                980   \n",
       "360939        927  20150620    -82.53325    -81.84940                370   \n",
       "3307267       399  20150924    -77.03772    -71.00518               1200   \n",
       "...           ...       ...          ...          ...                ...   \n",
       "2794436       337  20150222   -118.40807   -122.22072               1040   \n",
       "3309420       563  20150427   -106.37781   -104.66700               1180   \n",
       "1728525      2139  20150905    -84.42694   -122.37484               1375   \n",
       "3070832       226  20150221    -84.42694    -80.94313                958   \n",
       "2185253       372  20150811   -117.86822   -122.37484               1199   \n",
       "\n",
       "         total_minutes_arr  DL  F9  NK  WN  \n",
       "551728                 584   0   0   0   0  \n",
       "2506701               1360   0   0   0   1  \n",
       "2835629               1060   0   0   0   1  \n",
       "360939                 515   0   1   0   0  \n",
       "3307267               1294   0   0   0   0  \n",
       "...                    ...  ..  ..  ..  ..  \n",
       "2794436               1115   0   0   0   1  \n",
       "3309420               1288   0   0   0   0  \n",
       "1728525                389   1   0   0   0  \n",
       "3070832               1032   0   0   0   0  \n",
       "2185253               1292   0   0   0   0  \n",
       "\n",
       "[2737888 rows x 10 columns]"
      ]
     },
     "execution_count": 126,
     "metadata": {},
     "output_type": "execute_result"
    }
   ],
   "source": [
    "x"
   ]
  },
  {
   "cell_type": "code",
   "execution_count": 117,
   "id": "b3770747",
   "metadata": {},
   "outputs": [],
   "source": [
    "x_train, x_test, y_train, y_test= train_test_split(x, y, test_size= 0.25,random_state=0)  "
   ]
  },
  {
   "cell_type": "code",
   "execution_count": 139,
   "id": "95d60b9d",
   "metadata": {},
   "outputs": [
    {
     "data": {
      "text/plain": [
       "0    1742023\n",
       "1     311393\n",
       "Name: delayed, dtype: int64"
      ]
     },
     "execution_count": 139,
     "metadata": {},
     "output_type": "execute_result"
    }
   ],
   "source": [
    "y_train.value_counts()"
   ]
  },
  {
   "cell_type": "markdown",
   "id": "c57e105b",
   "metadata": {},
   "source": [
    "### Use the SMOTE algorithm to oversample the minority class in the training set."
   ]
  },
  {
   "cell_type": "code",
   "execution_count": 128,
   "id": "1c65cf7f",
   "metadata": {},
   "outputs": [],
   "source": [
    "# define the SMOTE model\n",
    "smote = SMOTE()\n",
    "# fit and transform the training data\n",
    "X_train_resampled, y_train_resampled = smote.fit_resample(x_train, y_train)"
   ]
  },
  {
   "cell_type": "code",
   "execution_count": 142,
   "id": "9caeacac",
   "metadata": {},
   "outputs": [
    {
     "data": {
      "text/html": [
       "<div>\n",
       "<style scoped>\n",
       "    .dataframe tbody tr th:only-of-type {\n",
       "        vertical-align: middle;\n",
       "    }\n",
       "\n",
       "    .dataframe tbody tr th {\n",
       "        vertical-align: top;\n",
       "    }\n",
       "\n",
       "    .dataframe thead th {\n",
       "        text-align: right;\n",
       "    }\n",
       "</style>\n",
       "<table border=\"1\" class=\"dataframe\">\n",
       "  <thead>\n",
       "    <tr style=\"text-align: right;\">\n",
       "      <th></th>\n",
       "      <th>DISTANCE</th>\n",
       "      <th>dateKey</th>\n",
       "      <th>LONGITUDE_x</th>\n",
       "      <th>LONGITUDE_y</th>\n",
       "      <th>total_minutes_dep</th>\n",
       "      <th>total_minutes_arr</th>\n",
       "      <th>DL</th>\n",
       "      <th>F9</th>\n",
       "      <th>NK</th>\n",
       "      <th>WN</th>\n",
       "    </tr>\n",
       "  </thead>\n",
       "  <tbody>\n",
       "    <tr>\n",
       "      <th>0</th>\n",
       "      <td>337</td>\n",
       "      <td>20150119</td>\n",
       "      <td>-118.408070</td>\n",
       "      <td>-122.374840</td>\n",
       "      <td>995</td>\n",
       "      <td>1083</td>\n",
       "      <td>0</td>\n",
       "      <td>0</td>\n",
       "      <td>0</td>\n",
       "      <td>0</td>\n",
       "    </tr>\n",
       "    <tr>\n",
       "      <th>1</th>\n",
       "      <td>370</td>\n",
       "      <td>20150927</td>\n",
       "      <td>-112.008060</td>\n",
       "      <td>-118.408070</td>\n",
       "      <td>780</td>\n",
       "      <td>860</td>\n",
       "      <td>0</td>\n",
       "      <td>0</td>\n",
       "      <td>0</td>\n",
       "      <td>1</td>\n",
       "    </tr>\n",
       "    <tr>\n",
       "      <th>2</th>\n",
       "      <td>391</td>\n",
       "      <td>20150521</td>\n",
       "      <td>-111.977770</td>\n",
       "      <td>-104.667000</td>\n",
       "      <td>975</td>\n",
       "      <td>1060</td>\n",
       "      <td>0</td>\n",
       "      <td>0</td>\n",
       "      <td>0</td>\n",
       "      <td>1</td>\n",
       "    </tr>\n",
       "    <tr>\n",
       "      <th>3</th>\n",
       "      <td>353</td>\n",
       "      <td>20150310</td>\n",
       "      <td>-118.151610</td>\n",
       "      <td>-122.220720</td>\n",
       "      <td>550</td>\n",
       "      <td>625</td>\n",
       "      <td>0</td>\n",
       "      <td>0</td>\n",
       "      <td>0</td>\n",
       "      <td>0</td>\n",
       "    </tr>\n",
       "    <tr>\n",
       "      <th>4</th>\n",
       "      <td>2297</td>\n",
       "      <td>20150803</td>\n",
       "      <td>-115.152330</td>\n",
       "      <td>-72.683230</td>\n",
       "      <td>435</td>\n",
       "      <td>585</td>\n",
       "      <td>0</td>\n",
       "      <td>0</td>\n",
       "      <td>0</td>\n",
       "      <td>1</td>\n",
       "    </tr>\n",
       "    <tr>\n",
       "      <th>...</th>\n",
       "      <td>...</td>\n",
       "      <td>...</td>\n",
       "      <td>...</td>\n",
       "      <td>...</td>\n",
       "      <td>...</td>\n",
       "      <td>...</td>\n",
       "      <td>...</td>\n",
       "      <td>...</td>\n",
       "      <td>...</td>\n",
       "      <td>...</td>\n",
       "    </tr>\n",
       "    <tr>\n",
       "      <th>3484041</th>\n",
       "      <td>398</td>\n",
       "      <td>20150817</td>\n",
       "      <td>-108.429787</td>\n",
       "      <td>-107.613185</td>\n",
       "      <td>1036</td>\n",
       "      <td>1127</td>\n",
       "      <td>0</td>\n",
       "      <td>0</td>\n",
       "      <td>0</td>\n",
       "      <td>0</td>\n",
       "    </tr>\n",
       "    <tr>\n",
       "      <th>3484042</th>\n",
       "      <td>719</td>\n",
       "      <td>20150409</td>\n",
       "      <td>-88.664494</td>\n",
       "      <td>-75.022362</td>\n",
       "      <td>586</td>\n",
       "      <td>679</td>\n",
       "      <td>0</td>\n",
       "      <td>0</td>\n",
       "      <td>0</td>\n",
       "      <td>0</td>\n",
       "    </tr>\n",
       "    <tr>\n",
       "      <th>3484043</th>\n",
       "      <td>604</td>\n",
       "      <td>20150904</td>\n",
       "      <td>-90.001155</td>\n",
       "      <td>-86.001136</td>\n",
       "      <td>1319</td>\n",
       "      <td>1381</td>\n",
       "      <td>0</td>\n",
       "      <td>0</td>\n",
       "      <td>0</td>\n",
       "      <td>0</td>\n",
       "    </tr>\n",
       "    <tr>\n",
       "      <th>3484044</th>\n",
       "      <td>599</td>\n",
       "      <td>20150401</td>\n",
       "      <td>-81.720955</td>\n",
       "      <td>-80.943130</td>\n",
       "      <td>1330</td>\n",
       "      <td>1435</td>\n",
       "      <td>0</td>\n",
       "      <td>0</td>\n",
       "      <td>0</td>\n",
       "      <td>0</td>\n",
       "    </tr>\n",
       "    <tr>\n",
       "      <th>3484045</th>\n",
       "      <td>323</td>\n",
       "      <td>20150328</td>\n",
       "      <td>-78.351995</td>\n",
       "      <td>-76.385856</td>\n",
       "      <td>1099</td>\n",
       "      <td>1175</td>\n",
       "      <td>0</td>\n",
       "      <td>0</td>\n",
       "      <td>0</td>\n",
       "      <td>0</td>\n",
       "    </tr>\n",
       "  </tbody>\n",
       "</table>\n",
       "<p>3484046 rows × 10 columns</p>\n",
       "</div>"
      ],
      "text/plain": [
       "         DISTANCE   dateKey  LONGITUDE_x  LONGITUDE_y  total_minutes_dep  \\\n",
       "0             337  20150119  -118.408070  -122.374840                995   \n",
       "1             370  20150927  -112.008060  -118.408070                780   \n",
       "2             391  20150521  -111.977770  -104.667000                975   \n",
       "3             353  20150310  -118.151610  -122.220720                550   \n",
       "4            2297  20150803  -115.152330   -72.683230                435   \n",
       "...           ...       ...          ...          ...                ...   \n",
       "3484041       398  20150817  -108.429787  -107.613185               1036   \n",
       "3484042       719  20150409   -88.664494   -75.022362                586   \n",
       "3484043       604  20150904   -90.001155   -86.001136               1319   \n",
       "3484044       599  20150401   -81.720955   -80.943130               1330   \n",
       "3484045       323  20150328   -78.351995   -76.385856               1099   \n",
       "\n",
       "         total_minutes_arr  DL  F9  NK  WN  \n",
       "0                     1083   0   0   0   0  \n",
       "1                      860   0   0   0   1  \n",
       "2                     1060   0   0   0   1  \n",
       "3                      625   0   0   0   0  \n",
       "4                      585   0   0   0   1  \n",
       "...                    ...  ..  ..  ..  ..  \n",
       "3484041               1127   0   0   0   0  \n",
       "3484042                679   0   0   0   0  \n",
       "3484043               1381   0   0   0   0  \n",
       "3484044               1435   0   0   0   0  \n",
       "3484045               1175   0   0   0   0  \n",
       "\n",
       "[3484046 rows x 10 columns]"
      ]
     },
     "execution_count": 142,
     "metadata": {},
     "output_type": "execute_result"
    }
   ],
   "source": [
    "X_train_resampled"
   ]
  },
  {
   "cell_type": "code",
   "execution_count": 132,
   "id": "5bc86e80",
   "metadata": {},
   "outputs": [
    {
     "name": "stdout",
     "output_type": "stream",
     "text": [
      "CPU times: total: 2h 37min 47s\n",
      "Wall time: 20min 41s\n"
     ]
    }
   ],
   "source": [
    "%%time\n",
    "# Create the classifier\n",
    "clf = XGBClassifier(max_depth=25,n_estimators=100)\n",
    "\n",
    "# Fit the classifier to the training data\n",
    "clf.fit(X_train_resampled, y_train_resampled)\n",
    "\n",
    "\n"
   ]
  },
  {
   "cell_type": "code",
   "execution_count": 150,
   "id": "42547b14",
   "metadata": {},
   "outputs": [],
   "source": [
    "# Make predictions on the test data\n",
    "predictions = clf.predict(x_test)"
   ]
  },
  {
   "cell_type": "code",
   "execution_count": 151,
   "id": "b3f77b85",
   "metadata": {},
   "outputs": [
    {
     "name": "stdout",
     "output_type": "stream",
     "text": [
      "              precision    recall  f1-score   support\n",
      "\n",
      "           0       0.94      0.93      0.93    829197\n",
      "           1       0.62      0.65      0.64    148620\n",
      "\n",
      "    accuracy                           0.89    977817\n",
      "   macro avg       0.78      0.79      0.79    977817\n",
      "weighted avg       0.89      0.89      0.89    977817\n",
      "\n",
      "F1 score: 0.8873633819007033\n"
     ]
    }
   ],
   "source": [
    "# Print the classification report(Gini)\n",
    "report = classification_report(y_test, predictions)\n",
    "print(report)\n",
    "\n",
    "# Print the F1 score\n",
    "f1 = f1_score(y_test, predictions, average=\"micro\")\n",
    "print(\"F1 score:\", f1)"
   ]
  },
  {
   "cell_type": "code",
   "execution_count": 178,
   "id": "ad276ff0",
   "metadata": {},
   "outputs": [
    {
     "data": {
      "text/plain": [
       "0         0\n",
       "1         0\n",
       "2         1\n",
       "3         0\n",
       "4         0\n",
       "         ..\n",
       "977812    0\n",
       "977813    0\n",
       "977814    0\n",
       "977815    0\n",
       "977816    0\n",
       "Length: 977817, dtype: int32"
      ]
     },
     "execution_count": 178,
     "metadata": {},
     "output_type": "execute_result"
    }
   ],
   "source": [
    "predictions"
   ]
  },
  {
   "cell_type": "code",
   "execution_count": 144,
   "id": "24a1e379",
   "metadata": {},
   "outputs": [
    {
     "data": {
      "text/plain": [
       "<AxesSubplot: title={'center': 'Feature importance'}, xlabel='F score', ylabel='Features'>"
      ]
     },
     "execution_count": 144,
     "metadata": {},
     "output_type": "execute_result"
    },
    {
     "data": {
      "image/png": "[encoded data removed]",
      "text/plain": [
       "<Figure size 432x288 with 1 Axes>"
      ]
     },
     "metadata": {
      "needs_background": "light"
     },
     "output_type": "display_data"
    }
   ],
   "source": [
    "# Plot the feature importance scores, excluding the first two columns\n",
    "xgb.plot_importance(clf,importance_type='weight', max_num_features=11)"
   ]
  },
  {
   "cell_type": "markdown",
   "id": "3cb76aa4",
   "metadata": {},
   "source": [
    "### Evaluate the model "
   ]
  },
  {
   "cell_type": "code",
   "execution_count": 164,
   "id": "6d8b8363",
   "metadata": {},
   "outputs": [
    {
     "name": "stdout",
     "output_type": "stream",
     "text": [
      "Test score: 0.887\n",
      "Train score: 0.945\n"
     ]
    }
   ],
   "source": [
    "# Evaluate the model on the test data\n",
    "test_score = clf.score(x_test, y_test)\n",
    "\n",
    "# Evaluate the model on the training data\n",
    "train_score = clf.score(X_train_resampled, y_train_resampled)\n",
    "\n",
    "# Print the scores\n",
    "print(f\"Test score: {test_score:.3f}\")\n",
    "print(f\"Train score: {train_score:.3f}\")"
   ]
  },
  {
   "cell_type": "code",
   "execution_count": 170,
   "id": "64e50e15",
   "metadata": {},
   "outputs": [],
   "source": [
    "predictions = pd.Series(predictions)"
   ]
  },
  {
   "cell_type": "code",
   "execution_count": 175,
   "id": "19d9ab8f",
   "metadata": {},
   "outputs": [
    {
     "data": {
      "text/plain": [
       "551728     0\n",
       "2506701    0\n",
       "2835629    1\n",
       "360939     0\n",
       "3307267    0\n",
       "          ..\n",
       "735871     0\n",
       "1561239    0\n",
       "3645401    1\n",
       "2744580    0\n",
       "3082345    0\n",
       "Name: delayed, Length: 977817, dtype: int64"
      ]
     },
     "execution_count": 175,
     "metadata": {},
     "output_type": "execute_result"
    }
   ],
   "source": [
    "y_test"
   ]
  },
  {
   "cell_type": "code",
   "execution_count": 187,
   "id": "7abf7640",
   "metadata": {},
   "outputs": [
    {
     "data": {
      "text/plain": [
       "array([[770997,  58200],\n",
       "       [ 51938,  96682]], dtype=int64)"
      ]
     },
     "execution_count": 187,
     "metadata": {},
     "output_type": "execute_result"
    }
   ],
   "source": [
    "confusion_matrix1"
   ]
  },
  {
   "cell_type": "code",
   "execution_count": 195,
   "id": "9bfae61d",
   "metadata": {},
   "outputs": [
    {
     "data": {
      "text/plain": [
       "<AxesSubplot: >"
      ]
     },
     "execution_count": 195,
     "metadata": {},
     "output_type": "execute_result"
    },
    {
     "data": {
      "image/png": "[encoded data removed]",
      "text/plain": [
       "<Figure size 432x288 with 2 Axes>"
      ]
     },
     "metadata": {
      "needs_background": "light"
     },
     "output_type": "display_data"
    }
   ],
   "source": [
    "import seaborn as sns\n",
    "import numpy as np\n",
    "# compute the confusion matrix\n",
    "confusion_matrix1 = confusion_matrix(y_test, predictions)\n",
    "\n",
    "group_names = ['True Neg','False Pos','False Neg','True Pos']\n",
    "group_counts = ['{0:0.0f}'.format(value) for value in\n",
    "                confusion_matrix1.flatten()]\n",
    "group_percentages = ['{0:.2%}'.format(value) for value in\n",
    "                     confusion_matrix1.flatten()/np.sum(confusion_matrix1)]\n",
    "labels = [f'{v1}\\n{v2}\\n{v3}' for v1, v2, v3 in\n",
    "          zip(group_names,group_counts,group_percentages)]\n",
    "labels = np.asarray(labels).reshape(2,2)\n",
    "sns.heatmap(confusion_matrix1, annot=labels, fmt='', cmap='Blues')"
   ]
  },
  {
   "cell_type": "code",
   "execution_count": 206,
   "id": "7daf5603",
   "metadata": {},
   "outputs": [
    {
     "data": {
      "image/png": "[encoded data removed]",
      "text/plain": [
       "<Figure size 640x480 with 1 Axes>"
      ]
     },
     "metadata": {
      "needs_background": "light"
     },
     "output_type": "display_data"
    }
   ],
   "source": [
    "# Compute the false positive rate and true positive rate at different classification thresholds\n",
    "fpr, tpr, thresholds = roc_curve(y_test,predictions)\n",
    "\n",
    "# Compute the area under the curve (AUC)\n",
    "auc = roc_auc_score(y_test, predictions)\n",
    "\n",
    "# Create a figure and axis object with a specific size and aspect ratio\n",
    "fig, ax = plt.subplots(figsize=(8, 6), dpi=80)\n",
    "\n",
    "# Plot the ROC curve\n",
    "sns.lineplot(x=fpr, y=tpr, ax=ax, label='ROC curve (AUC = %0.2f)' % auc, color='#004488', lw=2)\n",
    "\n",
    "# Add a title and axis labels\n",
    "plt.title('ROC curve', fontsize=18)\n",
    "plt.xlabel('False Positive Rate', fontsize=16)\n",
    "plt.ylabel('True Positive Rate', fontsize=16)\n",
    "\n",
    "# Customize the tick marks and tick labels on the x-axis and y-axis\n",
    "plt.xticks(fontsize=14)\n",
    "plt.yticks(fontsize=14)\n",
    "\n",
    "# Add a horizontal line to show the random guess baseline\n",
    "plt.axhline(y=0.5, linestyle='--', color='#999999', lw=2)\n",
    "\n",
    "# Add a legend\n",
    "plt.legend(fontsize=14, loc='lower right')\n",
    "\n",
    "# Show the plot\n",
    "plt.show()"
   ]
  },
  {
   "cell_type": "code",
   "execution_count": 208,
   "id": "7f8248d2",
   "metadata": {},
   "outputs": [
    {
     "data": {
      "image/png": "[encoded data removed]",
      "text/plain": [
       "<Figure size 640x480 with 1 Axes>"
      ]
     },
     "metadata": {
      "needs_background": "light"
     },
     "output_type": "display_data"
    }
   ],
   "source": [
    "\n",
    "# Compute the precision and recall at different classification thresholds\n",
    "precision, recall, thresholds = precision_recall_curve(y_test, predictions)\n",
    "\n",
    "# Create a figure and axis object with a specific size and aspect ratio\n",
    "fig, ax = plt.subplots(figsize=(8, 6), dpi=80)\n",
    "\n",
    "# Plot the precision-recall curve\n",
    "sns.lineplot(x=recall, y=precision, ax=ax, color='#004488', lw=2)\n",
    "\n",
    "# Add a title and axis labels\n",
    "plt.title('Precision-Recall curve', fontsize=18)\n",
    "plt.xlabel('Recall', fontsize=16)\n",
    "plt.ylabel('Precision', fontsize=16)\n",
    "\n",
    "# Customize the tick marks and tick labels on the x-axis and y-axis\n",
    "plt.xticks(fontsize=14)\n",
    "plt.yticks(fontsize=14)\n",
    "\n",
    "# Add a vertical line to show the random guess baseline\n",
    "plt.axvline(x=0.5, linestyle='--', color='#999999', lw=2)\n",
    "\n",
    "# Show the plot\n",
    "plt.show()"
   ]
  }
 ],
 "metadata": {
  "kernelspec": {
   "display_name": "Python 3 (ipykernel)",
   "language": "python",
   "name": "python3"
  },
  "language_info": {
   "codemirror_mode": {
    "name": "ipython",
    "version": 3
   },
   "file_extension": ".py",
   "mimetype": "text/x-python",
   "name": "python",
   "nbconvert_exporter": "python",
   "pygments_lexer": "ipython3",
   "version": "3.10.2"
  }
 },
 "nbformat": 4,
 "nbformat_minor": 5
}
