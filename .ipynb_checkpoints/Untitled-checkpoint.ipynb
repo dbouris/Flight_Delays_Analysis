{
 "cells": [
  {
   "cell_type": "code",
   "execution_count": 17,
   "id": "dc1bbf52",
   "metadata": {},
   "outputs": [
    {
     "name": "stderr",
     "output_type": "stream",
     "text": [
      "/Users/dimitrisbouris/opt/anaconda3/lib/python3.9/site-packages/xgboost/compat.py:36: FutureWarning: pandas.Int64Index is deprecated and will be removed from pandas in a future version. Use pandas.Index with the appropriate dtype instead.\n",
      "  from pandas import MultiIndex, Int64Index\n"
     ]
    }
   ],
   "source": [
    "import pandas as pd\n",
    "import xgboost as xgb\n",
    "from sklearn import metrics"
   ]
  },
  {
   "cell_type": "code",
   "execution_count": 11,
   "id": "7414654c",
   "metadata": {},
   "outputs": [],
   "source": [
    "fact = pd.read_csv('flights_fact.csv', usecols=['AIRLINE', 'scheduledDeparture_key', 'AIR_TIME', 'DISTANCE',\n",
    "                                               'early', 'on_time', 'delayed'])"
   ]
  },
  {
   "cell_type": "code",
   "execution_count": 12,
   "id": "8d1763c2",
   "metadata": {},
   "outputs": [],
   "source": [
    "fact['early'] = fact['early']*0\n",
    "fact['on_time'] = fact['on_time']*1\n",
    "fact['delayed'] = fact['delayed']*2\n",
    "\n",
    "fact['target'] = fact['early'] + fact['on_time'] + fact['delayed']\n",
    "fact.drop(columns=['early', 'on_time', 'delayed'], inplace=True)"
   ]
  },
  {
   "cell_type": "code",
   "execution_count": 13,
   "id": "5d83af99",
   "metadata": {},
   "outputs": [
    {
     "data": {
      "text/html": [
       "<div>\n",
       "<style scoped>\n",
       "    .dataframe tbody tr th:only-of-type {\n",
       "        vertical-align: middle;\n",
       "    }\n",
       "\n",
       "    .dataframe tbody tr th {\n",
       "        vertical-align: top;\n",
       "    }\n",
       "\n",
       "    .dataframe thead th {\n",
       "        text-align: right;\n",
       "    }\n",
       "</style>\n",
       "<table border=\"1\" class=\"dataframe\">\n",
       "  <thead>\n",
       "    <tr style=\"text-align: right;\">\n",
       "      <th></th>\n",
       "      <th>AIRLINE</th>\n",
       "      <th>scheduledDeparture_key</th>\n",
       "      <th>AIR_TIME</th>\n",
       "      <th>DISTANCE</th>\n",
       "      <th>target</th>\n",
       "    </tr>\n",
       "  </thead>\n",
       "  <tbody>\n",
       "    <tr>\n",
       "      <th>3860427</th>\n",
       "      <td>WN</td>\n",
       "      <td>730</td>\n",
       "      <td>45.0</td>\n",
       "      <td>223</td>\n",
       "      <td>1</td>\n",
       "    </tr>\n",
       "    <tr>\n",
       "      <th>219273</th>\n",
       "      <td>EV</td>\n",
       "      <td>800</td>\n",
       "      <td>168.0</td>\n",
       "      <td>1157</td>\n",
       "      <td>3</td>\n",
       "    </tr>\n",
       "    <tr>\n",
       "      <th>3499119</th>\n",
       "      <td>UA</td>\n",
       "      <td>1326</td>\n",
       "      <td>85.0</td>\n",
       "      <td>550</td>\n",
       "      <td>0</td>\n",
       "    </tr>\n",
       "    <tr>\n",
       "      <th>4130347</th>\n",
       "      <td>AS</td>\n",
       "      <td>1935</td>\n",
       "      <td>126.0</td>\n",
       "      <td>1009</td>\n",
       "      <td>1</td>\n",
       "    </tr>\n",
       "    <tr>\n",
       "      <th>1751677</th>\n",
       "      <td>EV</td>\n",
       "      <td>907</td>\n",
       "      <td>56.0</td>\n",
       "      <td>316</td>\n",
       "      <td>1</td>\n",
       "    </tr>\n",
       "  </tbody>\n",
       "</table>\n",
       "</div>"
      ],
      "text/plain": [
       "        AIRLINE  scheduledDeparture_key  AIR_TIME  DISTANCE  target\n",
       "3860427      WN                     730      45.0       223       1\n",
       "219273       EV                     800     168.0      1157       3\n",
       "3499119      UA                    1326      85.0       550       0\n",
       "4130347      AS                    1935     126.0      1009       1\n",
       "1751677      EV                     907      56.0       316       1"
      ]
     },
     "execution_count": 13,
     "metadata": {},
     "output_type": "execute_result"
    }
   ],
   "source": [
    "fact.sample(5)"
   ]
  },
  {
   "cell_type": "code",
   "execution_count": 15,
   "id": "c30bae5a",
   "metadata": {},
   "outputs": [],
   "source": [
    "fact = pd.get_dummies( fact, columns=['AIRLINE'])"
   ]
  },
  {
   "cell_type": "code",
   "execution_count": 16,
   "id": "9a06e188",
   "metadata": {},
   "outputs": [],
   "source": [
    "Y = fact['target']\n",
    "fact.drop(columns='target', inplace=True)\n",
    "X = fact\n",
    "\n",
    "from sklearn.model_selection import train_test_split\n",
    "import statsmodels.api as sm\n",
    "\n",
    "X_train, X_test, y_train, y_test = train_test_split(X, Y, test_size=0.25)"
   ]
  },
  {
   "cell_type": "code",
   "execution_count": null,
   "id": "fcb03151",
   "metadata": {},
   "outputs": [
    {
     "name": "stdout",
     "output_type": "stream",
     "text": [
      "[12:57:59] WARNING: ../src/learner.cc:576: \n",
      "Parameters: { \"verbose\" } might not be used.\n",
      "\n",
      "  This could be a false alarm, with some parameters getting used by language bindings but\n",
      "  then being mistakenly passed down to XGBoost core, or some parameter actually being used\n",
      "  but getting flagged wrongly here. Please open an issue if you find any such cases.\n",
      "\n",
      "\n",
      "[12:58:15] WARNING: ../src/learner.cc:1115: Starting in XGBoost 1.3.0, the default evaluation metric used with the objective 'multi:softprob' was changed from 'merror' to 'mlogloss'. Explicitly set eval_metric if you'd like to restore the old behavior.\n"
     ]
    }
   ],
   "source": [
    "model = xgb.XGBClassifier(max_depth=20, min_child_weight=1,  n_estimators=100,\n",
    "                          n_jobs=-1 , verbose=1, learning_rate=0.01)\n",
    "model.fit(X_train, y_train)"
   ]
  },
  {
   "cell_type": "code",
   "execution_count": null,
   "id": "d3fe5529",
   "metadata": {},
   "outputs": [],
   "source": []
  }
 ],
 "metadata": {
  "kernelspec": {
   "display_name": "Python 3 (ipykernel)",
   "language": "python",
   "name": "python3"
  },
  "language_info": {
   "codemirror_mode": {
    "name": "ipython",
    "version": 3
   },
   "file_extension": ".py",
   "mimetype": "text/x-python",
   "name": "python",
   "nbconvert_exporter": "python",
   "pygments_lexer": "ipython3",
   "version": "3.9.15"
  }
 },
 "nbformat": 4,
 "nbformat_minor": 5
}
