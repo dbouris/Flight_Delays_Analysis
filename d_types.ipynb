{
 "cells": [
  {
   "cell_type": "code",
   "execution_count": 1,
   "id": "cdd643bf",
   "metadata": {},
   "outputs": [],
   "source": [
    "import pandas as pd"
   ]
  },
  {
   "cell_type": "code",
   "execution_count": 2,
   "id": "e34dadbd",
   "metadata": {},
   "outputs": [],
   "source": [
    "aircraft = pd.read_csv('aircraft_dim.csv')"
   ]
  },
  {
   "cell_type": "code",
   "execution_count": 4,
   "id": "57267055",
   "metadata": {},
   "outputs": [
    {
     "data": {
      "text/html": [
       "<div>\n",
       "<style scoped>\n",
       "    .dataframe tbody tr th:only-of-type {\n",
       "        vertical-align: middle;\n",
       "    }\n",
       "\n",
       "    .dataframe tbody tr th {\n",
       "        vertical-align: top;\n",
       "    }\n",
       "\n",
       "    .dataframe thead th {\n",
       "        text-align: right;\n",
       "    }\n",
       "</style>\n",
       "<table border=\"1\" class=\"dataframe\">\n",
       "  <thead>\n",
       "    <tr style=\"text-align: right;\">\n",
       "      <th></th>\n",
       "      <th>Unnamed: 0</th>\n",
       "      <th>N-Number</th>\n",
       "      <th>AircraftMFRModelCode</th>\n",
       "      <th>Year Mfr</th>\n",
       "      <th>TypeAcft</th>\n",
       "      <th>mfr_name</th>\n",
       "      <th>model_name</th>\n",
       "      <th>type</th>\n",
       "      <th>num_engines</th>\n",
       "      <th>num_passengers</th>\n",
       "    </tr>\n",
       "  </thead>\n",
       "  <tbody>\n",
       "    <tr>\n",
       "      <th>383</th>\n",
       "      <td>31155</td>\n",
       "      <td>N948SW</td>\n",
       "      <td>1390008</td>\n",
       "      <td>2003.0</td>\n",
       "      <td>5</td>\n",
       "      <td>BOMBARDIER INC</td>\n",
       "      <td>CL-600-2B19</td>\n",
       "      <td>5</td>\n",
       "      <td>2</td>\n",
       "      <td>55</td>\n",
       "    </tr>\n",
       "    <tr>\n",
       "      <th>4084</th>\n",
       "      <td>281149</td>\n",
       "      <td>N709DN</td>\n",
       "      <td>1385278</td>\n",
       "      <td>2010.0</td>\n",
       "      <td>5</td>\n",
       "      <td>BOEING</td>\n",
       "      <td>777-232LR</td>\n",
       "      <td>5</td>\n",
       "      <td>2</td>\n",
       "      <td>442</td>\n",
       "    </tr>\n",
       "    <tr>\n",
       "      <th>3455</th>\n",
       "      <td>242559</td>\n",
       "      <td>N994DL</td>\n",
       "      <td>3023689</td>\n",
       "      <td>1991.0</td>\n",
       "      <td>5</td>\n",
       "      <td>MCDONNELL DOUGLAS CORPORATION</td>\n",
       "      <td>MD-88</td>\n",
       "      <td>5</td>\n",
       "      <td>2</td>\n",
       "      <td>142</td>\n",
       "    </tr>\n",
       "    <tr>\n",
       "      <th>1564</th>\n",
       "      <td>153518</td>\n",
       "      <td>N867DA</td>\n",
       "      <td>1385232</td>\n",
       "      <td>2002.0</td>\n",
       "      <td>5</td>\n",
       "      <td>BOEING</td>\n",
       "      <td>777-232</td>\n",
       "      <td>5</td>\n",
       "      <td>2</td>\n",
       "      <td>400</td>\n",
       "    </tr>\n",
       "    <tr>\n",
       "      <th>429</th>\n",
       "      <td>31257</td>\n",
       "      <td>N459SW</td>\n",
       "      <td>1390008</td>\n",
       "      <td>2003.0</td>\n",
       "      <td>5</td>\n",
       "      <td>BOMBARDIER INC</td>\n",
       "      <td>CL-600-2B19</td>\n",
       "      <td>5</td>\n",
       "      <td>2</td>\n",
       "      <td>55</td>\n",
       "    </tr>\n",
       "  </tbody>\n",
       "</table>\n",
       "</div>"
      ],
      "text/plain": [
       "      Unnamed: 0 N-Number AircraftMFRModelCode  Year Mfr  TypeAcft  \\\n",
       "383        31155   N948SW              1390008    2003.0         5   \n",
       "4084      281149   N709DN              1385278    2010.0         5   \n",
       "3455      242559   N994DL              3023689    1991.0         5   \n",
       "1564      153518   N867DA              1385232    2002.0         5   \n",
       "429        31257   N459SW              1390008    2003.0         5   \n",
       "\n",
       "                           mfr_name   model_name  type  num_engines  \\\n",
       "383                  BOMBARDIER INC  CL-600-2B19     5            2   \n",
       "4084                         BOEING    777-232LR     5            2   \n",
       "3455  MCDONNELL DOUGLAS CORPORATION        MD-88     5            2   \n",
       "1564                         BOEING      777-232     5            2   \n",
       "429                  BOMBARDIER INC  CL-600-2B19     5            2   \n",
       "\n",
       "      num_passengers  \n",
       "383               55  \n",
       "4084             442  \n",
       "3455             142  \n",
       "1564             400  \n",
       "429               55  "
      ]
     },
     "execution_count": 4,
     "metadata": {},
     "output_type": "execute_result"
    }
   ],
   "source": [
    "aircraft.sample(5)"
   ]
  },
  {
   "cell_type": "code",
   "execution_count": 8,
   "id": "c154bf99",
   "metadata": {},
   "outputs": [
    {
     "data": {
      "text/plain": [
       "(dtype('int64'), dtype('int64'), dtype('int64'))"
      ]
     },
     "execution_count": 8,
     "metadata": {},
     "output_type": "execute_result"
    }
   ],
   "source": [
    "aircraft['type'].dtype, aircraft['num_engines'].dtype, aircraft['num_passengers'].dtype"
   ]
  },
  {
   "cell_type": "code",
   "execution_count": 13,
   "id": "90251c9d",
   "metadata": {},
   "outputs": [
    {
     "data": {
      "text/plain": [
       "array(['150', 'PA-23-250', '550', '737-7H4', 'PA-28-180', 'SR22', 'R66',\n",
       "       'CL-600-2B19', 'A320-232', 'CL-600-2D24', '510', '172M', 'A-1B',\n",
       "       '737-3Y0', 'A185F', '767-424ER', 'DA 40', 'EMB-145LR', '206B',\n",
       "       '390', 'A321-231', '737-890', 'A36', 'G-IV', 'CL-600-2C10',\n",
       "       'A319-115', 'A319-132', '767-324', 'FALCON 900 EX', '737-790',\n",
       "       'PA-31-350', 'EMB-145XR', '777-232', '737-3H4', '737-932ER',\n",
       "       '737-924ER', '172E', 'A320-214', 'GVI (G650)', 'PA-34-220T',\n",
       "       'ERJ170-200LR', 'MD-90-30', 'TBM 700', '757-231', 'GV-SP (G550)',\n",
       "       '210-5(205)', '737-7BD', '757-224', '737-76N', 'A330-243',\n",
       "       'A319-112', '35-33', 'A319-114', '35-B33', 'DC-9-82(MD-82)',\n",
       "       'E-90', '737-7Q8', '737-3Q8', '737-8H4', 'P35', 'A320-212',\n",
       "       'MD-88', '60', 'DC-9-83(MD-83)', 'A330-223', '421C', '757-222',\n",
       "       'ERJ 190-100 IGW', '737-7CT', '767-33A', '757-232', '501',\n",
       "       '737-724', 'EMB-145', '737-705', 'EMB-120ER', 'A320-231',\n",
       "       'PA-32RT-300', '757-26D', '737-824', '757-2B7', '717-200',\n",
       "       'A321-211', '787-8', '737-8FH', '767-323', '737-76Q', 'F1',\n",
       "       'G1159B', '737-73V', '787-9', '737-752', '757-251', '777-222',\n",
       "       '757-351', '737-832', '737-79P', '757-2Q8', '757-28A', '737-71Q',\n",
       "       '737-990ER', 'EMB-135LR', '737-3T5', '767-322', '737-990',\n",
       "       '767-332', '737-732', '747-422', 'A319-111', '737-7L9', '777-224',\n",
       "       'A330-302', '737-7V3', '757-223', '737-5H4', '767-201', 'A319-131',\n",
       "       '737-3L9', '757-23N', '737-700', '757-212', 'S-76A', '737-4Q8',\n",
       "       '737-301', '727-223', 'A330-323', 'DC-7BF', '767-2B7', '757-33N',\n",
       "       'A320-211', 'EMB-120', '737-3A4', '757-2S7', 'FALCON XP',\n",
       "       '757-2G7', 'ZODIAC 601HDS', '747-451', '767-3P6', '767-432ER',\n",
       "       '737-490', '737-3TO', '737-7AD', '737-924', '737-4S3', '737-3K2',\n",
       "       '767-3CB', '737-3G7', '757-324', 'EA-400', '777-232LR',\n",
       "       'FALCON-XP', '737-7K9', '737-7BX', 'DOMINATOR', 'KITFOX IV'],\n",
       "      dtype=object)"
      ]
     },
     "execution_count": 13,
     "metadata": {},
     "output_type": "execute_result"
    }
   ],
   "source": [
    "aircraft['model_name'].unique()"
   ]
  },
  {
   "cell_type": "code",
   "execution_count": 11,
   "id": "9484e1a2",
   "metadata": {},
   "outputs": [
    {
     "data": {
      "text/plain": [
       "0             150\n",
       "1       PA-23-250\n",
       "2       PA-23-250\n",
       "3             550\n",
       "4         737-7H4\n",
       "          ...    \n",
       "4094      737-7BX\n",
       "4095      737-7BX\n",
       "4096      737-7BX\n",
       "4097    DOMINATOR\n",
       "4098    KITFOX IV\n",
       "Name: model_name, Length: 4099, dtype: object"
      ]
     },
     "execution_count": 11,
     "metadata": {},
     "output_type": "execute_result"
    }
   ],
   "source": [
    "aircraft['model_name'].astype('str')"
   ]
  },
  {
   "cell_type": "code",
   "execution_count": 14,
   "id": "ec3ebb1f",
   "metadata": {},
   "outputs": [
    {
     "name": "stderr",
     "output_type": "stream",
     "text": [
      "/var/folders/v7/cd7r3hf1229b9tnytv_qr8hm0000gn/T/ipykernel_16770/4171228840.py:1: DtypeWarning: Columns (3,4) have mixed types. Specify dtype option on import or set low_memory=False.\n",
      "  flights = pd.read_csv('flights_fact.csv')\n"
     ]
    }
   ],
   "source": [
    "flights = pd.read_csv('flights_fact.csv')"
   ]
  },
  {
   "cell_type": "code",
   "execution_count": 19,
   "id": "7b830488",
   "metadata": {},
   "outputs": [
    {
     "data": {
      "text/plain": [
       "array([ 3.,  5., nan])"
      ]
     },
     "execution_count": 19,
     "metadata": {},
     "output_type": "execute_result"
    }
   ],
   "source": [
    "flights['ORIGIN_AIRPORT'].str.len().unique()"
   ]
  },
  {
   "cell_type": "code",
   "execution_count": 20,
   "id": "534d3ca6",
   "metadata": {},
   "outputs": [
    {
     "data": {
      "text/html": [
       "<div>\n",
       "<style scoped>\n",
       "    .dataframe tbody tr th:only-of-type {\n",
       "        vertical-align: middle;\n",
       "    }\n",
       "\n",
       "    .dataframe tbody tr th {\n",
       "        vertical-align: top;\n",
       "    }\n",
       "\n",
       "    .dataframe thead th {\n",
       "        text-align: right;\n",
       "    }\n",
       "</style>\n",
       "<table border=\"1\" class=\"dataframe\">\n",
       "  <thead>\n",
       "    <tr style=\"text-align: right;\">\n",
       "      <th></th>\n",
       "      <th>AIRLINE</th>\n",
       "      <th>FLIGHT_NUMBER</th>\n",
       "      <th>TAIL_NUMBER</th>\n",
       "      <th>ORIGIN_AIRPORT</th>\n",
       "      <th>DESTINATION_AIRPORT</th>\n",
       "      <th>scheduledDeparture_key</th>\n",
       "      <th>DEPARTURE_TIME</th>\n",
       "      <th>DEPARTURE_DELAY</th>\n",
       "      <th>TAXI_OUT</th>\n",
       "      <th>WHEELS_OFF</th>\n",
       "      <th>...</th>\n",
       "      <th>ARRIVAL_DELAY</th>\n",
       "      <th>DIVERTED</th>\n",
       "      <th>CANCELLED</th>\n",
       "      <th>CANCELLATION_REASON</th>\n",
       "      <th>AIR_SYSTEM_DELAY</th>\n",
       "      <th>SECURITY_DELAY</th>\n",
       "      <th>AIRLINE_DELAY</th>\n",
       "      <th>LATE_AIRCRAFT_DELAY</th>\n",
       "      <th>WEATHER_DELAY</th>\n",
       "      <th>dateKey</th>\n",
       "    </tr>\n",
       "  </thead>\n",
       "  <tbody>\n",
       "    <tr>\n",
       "      <th>0</th>\n",
       "      <td>AS</td>\n",
       "      <td>98</td>\n",
       "      <td>N407AS</td>\n",
       "      <td>ANC</td>\n",
       "      <td>SEA</td>\n",
       "      <td>5</td>\n",
       "      <td>2354.0</td>\n",
       "      <td>-11.0</td>\n",
       "      <td>21.0</td>\n",
       "      <td>15</td>\n",
       "      <td>...</td>\n",
       "      <td>-22.0</td>\n",
       "      <td>0</td>\n",
       "      <td>0</td>\n",
       "      <td>NaN</td>\n",
       "      <td>NaN</td>\n",
       "      <td>NaN</td>\n",
       "      <td>NaN</td>\n",
       "      <td>NaN</td>\n",
       "      <td>NaN</td>\n",
       "      <td>20150101</td>\n",
       "    </tr>\n",
       "    <tr>\n",
       "      <th>1</th>\n",
       "      <td>AA</td>\n",
       "      <td>2336</td>\n",
       "      <td>N3KUAA</td>\n",
       "      <td>LAX</td>\n",
       "      <td>PBI</td>\n",
       "      <td>10</td>\n",
       "      <td>2.0</td>\n",
       "      <td>-8.0</td>\n",
       "      <td>12.0</td>\n",
       "      <td>14</td>\n",
       "      <td>...</td>\n",
       "      <td>-9.0</td>\n",
       "      <td>0</td>\n",
       "      <td>0</td>\n",
       "      <td>NaN</td>\n",
       "      <td>NaN</td>\n",
       "      <td>NaN</td>\n",
       "      <td>NaN</td>\n",
       "      <td>NaN</td>\n",
       "      <td>NaN</td>\n",
       "      <td>20150101</td>\n",
       "    </tr>\n",
       "    <tr>\n",
       "      <th>2</th>\n",
       "      <td>US</td>\n",
       "      <td>840</td>\n",
       "      <td>N171US</td>\n",
       "      <td>SFO</td>\n",
       "      <td>CLT</td>\n",
       "      <td>20</td>\n",
       "      <td>18.0</td>\n",
       "      <td>-2.0</td>\n",
       "      <td>16.0</td>\n",
       "      <td>34</td>\n",
       "      <td>...</td>\n",
       "      <td>5.0</td>\n",
       "      <td>0</td>\n",
       "      <td>0</td>\n",
       "      <td>NaN</td>\n",
       "      <td>NaN</td>\n",
       "      <td>NaN</td>\n",
       "      <td>NaN</td>\n",
       "      <td>NaN</td>\n",
       "      <td>NaN</td>\n",
       "      <td>20150101</td>\n",
       "    </tr>\n",
       "    <tr>\n",
       "      <th>3</th>\n",
       "      <td>AA</td>\n",
       "      <td>258</td>\n",
       "      <td>N3HYAA</td>\n",
       "      <td>LAX</td>\n",
       "      <td>MIA</td>\n",
       "      <td>20</td>\n",
       "      <td>15.0</td>\n",
       "      <td>-5.0</td>\n",
       "      <td>15.0</td>\n",
       "      <td>30</td>\n",
       "      <td>...</td>\n",
       "      <td>-9.0</td>\n",
       "      <td>0</td>\n",
       "      <td>0</td>\n",
       "      <td>NaN</td>\n",
       "      <td>NaN</td>\n",
       "      <td>NaN</td>\n",
       "      <td>NaN</td>\n",
       "      <td>NaN</td>\n",
       "      <td>NaN</td>\n",
       "      <td>20150101</td>\n",
       "    </tr>\n",
       "  </tbody>\n",
       "</table>\n",
       "<p>4 rows × 28 columns</p>\n",
       "</div>"
      ],
      "text/plain": [
       "  AIRLINE  FLIGHT_NUMBER TAIL_NUMBER ORIGIN_AIRPORT DESTINATION_AIRPORT  \\\n",
       "0      AS             98      N407AS            ANC                 SEA   \n",
       "1      AA           2336      N3KUAA            LAX                 PBI   \n",
       "2      US            840      N171US            SFO                 CLT   \n",
       "3      AA            258      N3HYAA            LAX                 MIA   \n",
       "\n",
       "   scheduledDeparture_key  DEPARTURE_TIME  DEPARTURE_DELAY  TAXI_OUT  \\\n",
       "0                       5          2354.0            -11.0      21.0   \n",
       "1                      10             2.0             -8.0      12.0   \n",
       "2                      20            18.0             -2.0      16.0   \n",
       "3                      20            15.0             -5.0      15.0   \n",
       "\n",
       "   WHEELS_OFF  ...  ARRIVAL_DELAY  DIVERTED  CANCELLED  CANCELLATION_REASON  \\\n",
       "0          15  ...          -22.0         0          0                  NaN   \n",
       "1          14  ...           -9.0         0          0                  NaN   \n",
       "2          34  ...            5.0         0          0                  NaN   \n",
       "3          30  ...           -9.0         0          0                  NaN   \n",
       "\n",
       "   AIR_SYSTEM_DELAY  SECURITY_DELAY  AIRLINE_DELAY  LATE_AIRCRAFT_DELAY  \\\n",
       "0               NaN             NaN            NaN                  NaN   \n",
       "1               NaN             NaN            NaN                  NaN   \n",
       "2               NaN             NaN            NaN                  NaN   \n",
       "3               NaN             NaN            NaN                  NaN   \n",
       "\n",
       "   WEATHER_DELAY   dateKey  \n",
       "0            NaN  20150101  \n",
       "1            NaN  20150101  \n",
       "2            NaN  20150101  \n",
       "3            NaN  20150101  \n",
       "\n",
       "[4 rows x 28 columns]"
      ]
     },
     "execution_count": 20,
     "metadata": {},
     "output_type": "execute_result"
    }
   ],
   "source": [
    "flights.head(4)"
   ]
  },
  {
   "cell_type": "code",
   "execution_count": null,
   "id": "654f8a20",
   "metadata": {},
   "outputs": [],
   "source": []
  }
 ],
 "metadata": {
  "kernelspec": {
   "display_name": "Python 3 (ipykernel)",
   "language": "python",
   "name": "python3"
  },
  "language_info": {
   "codemirror_mode": {
    "name": "ipython",
    "version": 3
   },
   "file_extension": ".py",
   "mimetype": "text/x-python",
   "name": "python",
   "nbconvert_exporter": "python",
   "pygments_lexer": "ipython3",
   "version": "3.9.15"
  }
 },
 "nbformat": 4,
 "nbformat_minor": 5
}
